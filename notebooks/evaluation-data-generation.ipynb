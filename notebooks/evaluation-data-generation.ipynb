{
 "cells": [
  {
   "cell_type": "markdown",
   "metadata": {},
   "source": []
  },
  {
   "cell_type": "code",
   "execution_count": 2,
   "metadata": {},
   "outputs": [],
   "source": [
    "import pandas as pd\n",
    "import json\n",
    "from openai import OpenAI\n",
    "client=OpenAI()"
   ]
  },
  {
   "cell_type": "markdown",
   "metadata": {},
   "source": [
    "## Ingestion"
   ]
  },
  {
   "cell_type": "code",
   "execution_count": 3,
   "metadata": {},
   "outputs": [
    {
     "data": {
      "text/html": [
       "<div>\n",
       "<style scoped>\n",
       "    .dataframe tbody tr th:only-of-type {\n",
       "        vertical-align: middle;\n",
       "    }\n",
       "\n",
       "    .dataframe tbody tr th {\n",
       "        vertical-align: top;\n",
       "    }\n",
       "\n",
       "    .dataframe thead th {\n",
       "        text-align: right;\n",
       "    }\n",
       "</style>\n",
       "<table border=\"1\" class=\"dataframe\">\n",
       "  <thead>\n",
       "    <tr style=\"text-align: right;\">\n",
       "      <th></th>\n",
       "      <th>id</th>\n",
       "      <th>Question</th>\n",
       "      <th>Answer</th>\n",
       "      <th>Category</th>\n",
       "    </tr>\n",
       "  </thead>\n",
       "  <tbody>\n",
       "    <tr>\n",
       "      <th>0</th>\n",
       "      <td>0</td>\n",
       "      <td>What are some examples of breed-typical person...</td>\n",
       "      <td>Breed-typical personalities in dogs are develo...</td>\n",
       "      <td>{'Dog'}</td>\n",
       "    </tr>\n",
       "    <tr>\n",
       "      <th>1</th>\n",
       "      <td>1</td>\n",
       "      <td>How do working and herding dogs typically behave?</td>\n",
       "      <td>Working and herding dogs have business-like di...</td>\n",
       "      <td>{'Dog'}</td>\n",
       "    </tr>\n",
       "    <tr>\n",
       "      <th>2</th>\n",
       "      <td>2</td>\n",
       "      <td>Which breed of dogs is known for strong loyalty?</td>\n",
       "      <td>Collies and Akitas are known for their strong ...</td>\n",
       "      <td>{'Dog'}</td>\n",
       "    </tr>\n",
       "    <tr>\n",
       "      <th>3</th>\n",
       "      <td>3</td>\n",
       "      <td>What instincts do guarding dogs typically disp...</td>\n",
       "      <td>Guarding dogs tend to be protective of their t...</td>\n",
       "      <td>{'Dog'}</td>\n",
       "    </tr>\n",
       "    <tr>\n",
       "      <th>4</th>\n",
       "      <td>4</td>\n",
       "      <td>How does breed specificity impact a dog's abil...</td>\n",
       "      <td>Breed specificity affects how well dogs adapt ...</td>\n",
       "      <td>{'Dog'}</td>\n",
       "    </tr>\n",
       "  </tbody>\n",
       "</table>\n",
       "</div>"
      ],
      "text/plain": [
       "   id                                           Question  \\\n",
       "0   0  What are some examples of breed-typical person...   \n",
       "1   1  How do working and herding dogs typically behave?   \n",
       "2   2   Which breed of dogs is known for strong loyalty?   \n",
       "3   3  What instincts do guarding dogs typically disp...   \n",
       "4   4  How does breed specificity impact a dog's abil...   \n",
       "\n",
       "                                              Answer Category  \n",
       "0  Breed-typical personalities in dogs are develo...  {'Dog'}  \n",
       "1  Working and herding dogs have business-like di...  {'Dog'}  \n",
       "2  Collies and Akitas are known for their strong ...  {'Dog'}  \n",
       "3  Guarding dogs tend to be protective of their t...  {'Dog'}  \n",
       "4  Breed specificity affects how well dogs adapt ...  {'Dog'}  "
      ]
     },
     "execution_count": 3,
     "metadata": {},
     "output_type": "execute_result"
    }
   ],
   "source": [
    "df=pd.read_csv('../data/update_category.csv')\n",
    "df.head()"
   ]
  },
  {
   "cell_type": "code",
   "execution_count": null,
   "metadata": {},
   "outputs": [],
   "source": []
  },
  {
   "cell_type": "code",
   "execution_count": 4,
   "metadata": {},
   "outputs": [],
   "source": [
    "documents = df.to_dict(orient='records')\n",
    "\n",
    "# data = df.to_dict(orient='records')\n"
   ]
  },
  {
   "cell_type": "code",
   "execution_count": 5,
   "metadata": {},
   "outputs": [
    {
     "data": {
      "text/plain": [
       "{'id': 0,\n",
       " 'Question': 'What are some examples of breed-typical personalities in dogs?',\n",
       " 'Answer': 'Breed-typical personalities in dogs are developed through generations of selection for certain traits. For example, sporting dogs are adventurous and responsive to humans, while hounds tend to be more independent and aloof.',\n",
       " 'Category': \"{'Dog'}\"}"
      ]
     },
     "execution_count": 5,
     "metadata": {},
     "output_type": "execute_result"
    }
   ],
   "source": [
    "documents[0]"
   ]
  },
  {
   "cell_type": "code",
   "execution_count": null,
   "metadata": {},
   "outputs": [],
   "source": []
  },
  {
   "cell_type": "code",
   "execution_count": 6,
   "metadata": {},
   "outputs": [],
   "source": [
    "prompt_template = \"\"\"\n",
    "You are simulating a pet owner who's seeking advice about their dog or cat.\n",
    "Formulate 5 questions this pet owner might ask based on a FAQ record.\n",
    "The record should contain the answer to the questions, and the questions should be complete \n",
    "and not too short.Use as fewer words as possible from the record.\n",
    "\n",
    "The record:\n",
    "\n",
    "question: {Question}\n",
    "answer: {Answer}\n",
    "category: {Category}\n",
    "\n",
    "Provide the output in parsable JSON:\n",
    "{{\"questions\": [\"question1\", \"question2\",..., \"question5\"]}}\n",
    "\"\"\".strip()\n"
   ]
  },
  {
   "cell_type": "code",
   "execution_count": 7,
   "metadata": {},
   "outputs": [
    {
     "data": {
      "text/plain": [
       "'You are simulating a pet owner who\\'s seeking advice about their dog or cat.\\nFormulate 5 questions this pet owner might ask based on a FAQ record.\\nThe record should contain the answer to the questions, and the questions should be complete \\nand not too short.Use as fewer words as possible from the record.\\n\\nThe record:\\n\\nquestion: What are some examples of breed-typical personalities in dogs?\\nanswer: Breed-typical personalities in dogs are developed through generations of selection for certain traits. For example, sporting dogs are adventurous and responsive to humans, while hounds tend to be more independent and aloof.\\ncategory: {\\'Dog\\'}\\n\\nProvide the output in parsable JSON:\\n{\"questions\": [\"question1\", \"question2\",..., \"question5\"]}'"
      ]
     },
     "execution_count": 7,
     "metadata": {},
     "output_type": "execute_result"
    }
   ],
   "source": [
    "\n",
    "prompt = prompt_template.format(**documents[0])\n",
    "prompt"
   ]
  },
  {
   "cell_type": "code",
   "execution_count": 8,
   "metadata": {},
   "outputs": [],
   "source": [
    "# def generate_questions(doc):\n",
    "#     prompt = prompt_template.format(**doc)\n",
    "\n",
    "#     response = client.chat.completions.create(\n",
    "#         model='gpt-4o-mini',\n",
    "#         messages=[{\"role\": \"user\", \"content\": prompt}]\n",
    "#     )\n",
    "\n",
    "#     json_response = response.choices[0].message.content\n",
    "#     return json_response"
   ]
  },
  {
   "cell_type": "code",
   "execution_count": 9,
   "metadata": {},
   "outputs": [
    {
     "ename": "NameError",
     "evalue": "name 'generate_questions' is not defined",
     "output_type": "error",
     "traceback": [
      "\u001b[1;31m---------------------------------------------------------------------------\u001b[0m",
      "\u001b[1;31mNameError\u001b[0m                                 Traceback (most recent call last)",
      "Cell \u001b[1;32mIn[9], line 1\u001b[0m\n\u001b[1;32m----> 1\u001b[0m json_response\u001b[38;5;241m=\u001b[39m\u001b[43mgenerate_questions\u001b[49m(documents[\u001b[38;5;241m0\u001b[39m])\n",
      "\u001b[1;31mNameError\u001b[0m: name 'generate_questions' is not defined"
     ]
    }
   ],
   "source": [
    "# json_response=generate_questions(documents[0])"
   ]
  },
  {
   "cell_type": "code",
   "execution_count": null,
   "metadata": {},
   "outputs": [
    {
     "data": {
      "text/plain": [
       "'{\"questions\": [\"What types of personalities are common in dogs based on their breed?\", \"How do breed-specific traits influence dog behavior?\", \"Can you give examples of sporting dog personalities?\", \"What personality traits are typical of hound breeds?\", \"How does selection for certain traits affect a dog\\'s personality?\"]}'"
      ]
     },
     "execution_count": 9,
     "metadata": {},
     "output_type": "execute_result"
    }
   ],
   "source": [
    "# json_response"
   ]
  },
  {
   "cell_type": "code",
   "execution_count": 10,
   "metadata": {},
   "outputs": [],
   "source": [
    "from tqdm.auto import tqdm\n"
   ]
  },
  {
   "cell_type": "code",
   "execution_count": 13,
   "metadata": {},
   "outputs": [],
   "source": [
    "results = {}\n"
   ]
  },
  {
   "cell_type": "code",
   "execution_count": 12,
   "metadata": {},
   "outputs": [
    {
     "data": {
      "text/plain": [
       "583"
      ]
     },
     "execution_count": 12,
     "metadata": {},
     "output_type": "execute_result"
    }
   ],
   "source": [
    "len(documents)\n",
    "# documents[28]"
   ]
  },
  {
   "cell_type": "code",
   "execution_count": 17,
   "metadata": {},
   "outputs": [
    {
     "data": {
      "application/vnd.jupyter.widget-view+json": {
       "model_id": "1fc89b196ac3408db6b233c36dee28b9",
       "version_major": 2,
       "version_minor": 0
      },
      "text/plain": [
       "  0%|          | 0/583 [00:00<?, ?it/s]"
      ]
     },
     "metadata": {},
     "output_type": "display_data"
    }
   ],
   "source": []
  },
  {
   "cell_type": "code",
   "execution_count": 1,
   "metadata": {},
   "outputs": [
    {
     "ename": "NameError",
     "evalue": "name 'results' is not defined",
     "output_type": "error",
     "traceback": [
      "\u001b[1;31m---------------------------------------------------------------------------\u001b[0m",
      "\u001b[1;31mNameError\u001b[0m                                 Traceback (most recent call last)",
      "Cell \u001b[1;32mIn[1], line 1\u001b[0m\n\u001b[1;32m----> 1\u001b[0m \u001b[38;5;28mlen\u001b[39m(\u001b[43mresults\u001b[49m)\n",
      "\u001b[1;31mNameError\u001b[0m: name 'results' is not defined"
     ]
    }
   ],
   "source": [
    "len(results)"
   ]
  },
  {
   "cell_type": "code",
   "execution_count": 14,
   "metadata": {},
   "outputs": [],
   "source": [
    "import pickle\n"
   ]
  },
  {
   "cell_type": "code",
   "execution_count": 29,
   "metadata": {},
   "outputs": [],
   "source": [
    "with open('questions.pkl', 'wb') as f:\n",
    "    pickle.dump(results, f)"
   ]
  },
  {
   "cell_type": "code",
   "execution_count": 18,
   "metadata": {},
   "outputs": [],
   "source": [
    "import json\n",
    "import time\n",
    "from tqdm import tqdm\n",
    "from functools import wraps\n",
    "import threading\n",
    "\n",
    "class TimeoutError(Exception):\n",
    "    pass\n",
    "\n",
    "def timeout(seconds):\n",
    "    def decorator(func):\n",
    "        @wraps(func)\n",
    "        def wrapper(*args, **kwargs):\n",
    "            result = [TimeoutError('function [%s] timeout [%s seconds]' % (func.__name__, seconds))]\n",
    "            def worker():\n",
    "                try:\n",
    "                    result[0] = func(*args, **kwargs)\n",
    "                except Exception as e:\n",
    "                    result[0] = e\n",
    "            t = threading.Thread(target=worker)\n",
    "            t.daemon = True\n",
    "            try:\n",
    "                t.start()\n",
    "                t.join(seconds)\n",
    "            except Exception as e:\n",
    "                print('error starting thread')\n",
    "                raise e\n",
    "            ret = result[0]\n",
    "            if isinstance(ret, BaseException):\n",
    "                raise ret\n",
    "            return ret\n",
    "        return wrapper\n",
    "    return decorator\n",
    "\n",
    "@timeout(30)  # 設置 30 秒超時\n",
    "def generate_questions(doc):\n",
    "    prompt = prompt_template.format(**doc)\n",
    "\n",
    "    response = client.chat.completions.create(\n",
    "        model='gpt-4o-mini',\n",
    "        messages=[{\"role\": \"user\", \"content\": prompt}]\n",
    "    )\n",
    "\n",
    "    json_response = response.choices[0].message.content\n",
    "    return json_response\n",
    "\n",
    "\n",
    "def save_results(results):\n",
    "    with open('results.json', 'w', encoding='utf-8') as f:\n",
    "        json.dump(results, f, ensure_ascii=False, indent=2)\n",
    "\n",
    "def process_documents(documents, results, save_interval=10):\n",
    "    start_time = time.time()\n",
    "    for i, doc in enumerate(tqdm(documents)):\n",
    "        doc_id = doc['id']\n",
    "        if doc_id in results:\n",
    "            continue\n",
    "\n",
    "        try:\n",
    "            questions_raw = generate_questions(doc)\n",
    "            questions = json.loads(questions_raw)\n",
    "            results[doc_id] = questions['questions']\n",
    "        except TimeoutError:\n",
    "            print(f\"處理文檔 {doc_id} 時超時，跳過該文檔\")\n",
    "            continue\n",
    "        except json.JSONDecodeError:\n",
    "            print(f\"解析文檔 {doc_id} 的問題時出錯\")\n",
    "            print(questions_raw)\n",
    "            print(doc)\n",
    "            break\n",
    "        except Exception as e:\n",
    "            print(f\"處理文檔 {doc_id} 時發生錯誤: {str(e)}\")\n",
    "            break\n",
    "\n",
    "        # 每處理 save_interval 個文檔就保存一次結果\n",
    "        if (i + 1) % save_interval == 0:\n",
    "            save_results(results)\n",
    "            print(f\"已保存 {i + 1} 個文檔的結果\")\n",
    "\n",
    "        # 檢查總運行時間\n",
    "        if time.time() - start_time > 3600:  # 1小時後停止\n",
    "            print(\"程序運行超過1小時，停止處理\")\n",
    "            break\n",
    "\n",
    "    # 最後再保存一次結果\n",
    "    save_results(results)\n",
    "    print(\"處理完成，已保存所有結果\")\n",
    "\n",
    "# 使用示例\n"
   ]
  },
  {
   "cell_type": "code",
   "execution_count": 27,
   "metadata": {},
   "outputs": [
    {
     "name": "stderr",
     "output_type": "stream",
     "text": [
      " 56%|█████▌    | 325/583 [00:01<00:00, 268.50it/s]"
     ]
    },
    {
     "name": "stdout",
     "output_type": "stream",
     "text": [
      "已保存 330 個文檔的結果\n"
     ]
    },
    {
     "name": "stderr",
     "output_type": "stream",
     "text": [
      " 57%|█████▋    | 334/583 [00:12<00:13, 18.71it/s] "
     ]
    },
    {
     "name": "stdout",
     "output_type": "stream",
     "text": [
      "已保存 340 個文檔的結果\n"
     ]
    },
    {
     "name": "stderr",
     "output_type": "stream",
     "text": [
      " 60%|█████▉    | 347/583 [00:30<00:44,  5.30it/s]"
     ]
    },
    {
     "name": "stdout",
     "output_type": "stream",
     "text": [
      "已保存 350 個文檔的結果\n"
     ]
    },
    {
     "name": "stderr",
     "output_type": "stream",
     "text": [
      " 61%|██████▏   | 358/583 [00:42<01:15,  3.00it/s]"
     ]
    },
    {
     "name": "stdout",
     "output_type": "stream",
     "text": [
      "已保存 360 個文檔的結果\n"
     ]
    },
    {
     "name": "stderr",
     "output_type": "stream",
     "text": [
      " 63%|██████▎   | 370/583 [00:54<02:33,  1.39it/s]"
     ]
    },
    {
     "name": "stdout",
     "output_type": "stream",
     "text": [
      "已保存 370 個文檔的結果\n"
     ]
    },
    {
     "name": "stderr",
     "output_type": "stream",
     "text": [
      " 65%|██████▌   | 380/583 [01:08<05:16,  1.56s/it]"
     ]
    },
    {
     "name": "stdout",
     "output_type": "stream",
     "text": [
      "已保存 380 個文檔的結果\n"
     ]
    },
    {
     "name": "stderr",
     "output_type": "stream",
     "text": [
      " 67%|██████▋   | 390/583 [01:19<03:18,  1.03s/it]"
     ]
    },
    {
     "name": "stdout",
     "output_type": "stream",
     "text": [
      "已保存 390 個文檔的結果\n"
     ]
    },
    {
     "name": "stderr",
     "output_type": "stream",
     "text": [
      " 69%|██████▊   | 400/583 [01:32<03:41,  1.21s/it]"
     ]
    },
    {
     "name": "stdout",
     "output_type": "stream",
     "text": [
      "已保存 400 個文檔的結果\n"
     ]
    },
    {
     "name": "stderr",
     "output_type": "stream",
     "text": [
      " 70%|███████   | 410/583 [01:43<03:08,  1.09s/it]"
     ]
    },
    {
     "name": "stdout",
     "output_type": "stream",
     "text": [
      "已保存 410 個文檔的結果\n"
     ]
    },
    {
     "name": "stderr",
     "output_type": "stream",
     "text": [
      " 72%|███████▏  | 420/583 [01:53<02:45,  1.01s/it]"
     ]
    },
    {
     "name": "stdout",
     "output_type": "stream",
     "text": [
      "已保存 420 個文檔的結果\n"
     ]
    },
    {
     "name": "stderr",
     "output_type": "stream",
     "text": [
      " 74%|███████▍  | 430/583 [02:04<02:46,  1.09s/it]"
     ]
    },
    {
     "name": "stdout",
     "output_type": "stream",
     "text": [
      "已保存 430 個文檔的結果\n"
     ]
    },
    {
     "name": "stderr",
     "output_type": "stream",
     "text": [
      " 75%|███████▌  | 440/583 [02:15<02:28,  1.04s/it]"
     ]
    },
    {
     "name": "stdout",
     "output_type": "stream",
     "text": [
      "已保存 440 個文檔的結果\n"
     ]
    },
    {
     "name": "stderr",
     "output_type": "stream",
     "text": [
      " 77%|███████▋  | 450/583 [02:30<03:30,  1.58s/it]"
     ]
    },
    {
     "name": "stdout",
     "output_type": "stream",
     "text": [
      "已保存 450 個文檔的結果\n"
     ]
    },
    {
     "name": "stderr",
     "output_type": "stream",
     "text": [
      " 79%|███████▉  | 460/583 [02:42<02:09,  1.05s/it]"
     ]
    },
    {
     "name": "stdout",
     "output_type": "stream",
     "text": [
      "已保存 460 個文檔的結果\n"
     ]
    },
    {
     "name": "stderr",
     "output_type": "stream",
     "text": [
      " 81%|████████  | 470/583 [02:52<01:56,  1.03s/it]"
     ]
    },
    {
     "name": "stdout",
     "output_type": "stream",
     "text": [
      "已保存 470 個文檔的結果\n"
     ]
    },
    {
     "name": "stderr",
     "output_type": "stream",
     "text": [
      " 82%|████████▏ | 480/583 [03:04<02:02,  1.19s/it]"
     ]
    },
    {
     "name": "stdout",
     "output_type": "stream",
     "text": [
      "已保存 480 個文檔的結果\n"
     ]
    },
    {
     "name": "stderr",
     "output_type": "stream",
     "text": [
      " 84%|████████▍ | 490/583 [03:17<02:11,  1.41s/it]"
     ]
    },
    {
     "name": "stdout",
     "output_type": "stream",
     "text": [
      "已保存 490 個文檔的結果\n"
     ]
    },
    {
     "name": "stderr",
     "output_type": "stream",
     "text": [
      " 86%|████████▌ | 500/583 [03:28<01:34,  1.14s/it]"
     ]
    },
    {
     "name": "stdout",
     "output_type": "stream",
     "text": [
      "已保存 500 個文檔的結果\n"
     ]
    },
    {
     "name": "stderr",
     "output_type": "stream",
     "text": [
      " 87%|████████▋ | 510/583 [03:38<01:19,  1.09s/it]"
     ]
    },
    {
     "name": "stdout",
     "output_type": "stream",
     "text": [
      "已保存 510 個文檔的結果\n"
     ]
    },
    {
     "name": "stderr",
     "output_type": "stream",
     "text": [
      " 89%|████████▉ | 520/583 [03:50<01:03,  1.00s/it]"
     ]
    },
    {
     "name": "stdout",
     "output_type": "stream",
     "text": [
      "已保存 520 個文檔的結果\n"
     ]
    },
    {
     "name": "stderr",
     "output_type": "stream",
     "text": [
      " 91%|█████████ | 530/583 [04:00<01:00,  1.15s/it]"
     ]
    },
    {
     "name": "stdout",
     "output_type": "stream",
     "text": [
      "已保存 530 個文檔的結果\n"
     ]
    },
    {
     "name": "stderr",
     "output_type": "stream",
     "text": [
      " 93%|█████████▎| 540/583 [04:12<00:46,  1.08s/it]"
     ]
    },
    {
     "name": "stdout",
     "output_type": "stream",
     "text": [
      "已保存 540 個文檔的結果\n"
     ]
    },
    {
     "name": "stderr",
     "output_type": "stream",
     "text": [
      " 94%|█████████▍| 550/583 [04:24<00:34,  1.04s/it]"
     ]
    },
    {
     "name": "stdout",
     "output_type": "stream",
     "text": [
      "已保存 550 個文檔的結果\n"
     ]
    },
    {
     "name": "stderr",
     "output_type": "stream",
     "text": [
      " 96%|█████████▌| 560/583 [04:37<00:28,  1.26s/it]"
     ]
    },
    {
     "name": "stdout",
     "output_type": "stream",
     "text": [
      "已保存 560 個文檔的結果\n"
     ]
    },
    {
     "name": "stderr",
     "output_type": "stream",
     "text": [
      " 98%|█████████▊| 570/583 [04:49<00:12,  1.01it/s]"
     ]
    },
    {
     "name": "stdout",
     "output_type": "stream",
     "text": [
      "已保存 570 個文檔的結果\n"
     ]
    },
    {
     "name": "stderr",
     "output_type": "stream",
     "text": [
      " 99%|█████████▉| 580/583 [04:59<00:03,  1.07s/it]"
     ]
    },
    {
     "name": "stdout",
     "output_type": "stream",
     "text": [
      "已保存 580 個文檔的結果\n"
     ]
    },
    {
     "name": "stderr",
     "output_type": "stream",
     "text": [
      "100%|██████████| 583/583 [05:02<00:00,  1.93it/s]"
     ]
    },
    {
     "name": "stdout",
     "output_type": "stream",
     "text": [
      "處理完成，已保存所有結果\n"
     ]
    },
    {
     "name": "stderr",
     "output_type": "stream",
     "text": [
      "\n"
     ]
    }
   ],
   "source": [
    "\n",
    "# documents = [...]  # 您的文檔列表\n",
    "# results = {}  # 如果有之前的結果，可以從文件中加載\n",
    "\n",
    "process_documents(documents, results)"
   ]
  },
  {
   "cell_type": "code",
   "execution_count": null,
   "metadata": {},
   "outputs": [],
   "source": [
    "# for doc in tqdm(documents): \n",
    "#     doc_id = doc['id']\n",
    "#     if doc_id in results:\n",
    "#         continue\n",
    "\n",
    "#     questions_raw = generate_questions(doc)\n",
    "#     try:\n",
    "#         questions=json.loads(questions_raw)    \n",
    "#         results[doc_id] = questions['questions']\n",
    "#     except:\n",
    "#         print(questions_raw)\n",
    "#         print(doc)\n",
    "#         break    "
   ]
  },
  {
   "cell_type": "code",
   "execution_count": 30,
   "metadata": {},
   "outputs": [
    {
     "data": {
      "text/plain": [
       "(583, 583)"
      ]
     },
     "execution_count": 30,
     "metadata": {},
     "output_type": "execute_result"
    }
   ],
   "source": [
    "len(documents),len(results)"
   ]
  },
  {
   "cell_type": "code",
   "execution_count": 32,
   "metadata": {},
   "outputs": [],
   "source": [
    "# results"
   ]
  },
  {
   "cell_type": "code",
   "execution_count": 16,
   "metadata": {},
   "outputs": [
    {
     "name": "stderr",
     "output_type": "stream",
     "text": [
      " 33%|███▎      | 190/583 [00:00<?, ?it/s]"
     ]
    },
    {
     "name": "stdout",
     "output_type": "stream",
     "text": [
      "處理文檔 190 時發生錯誤: module 'signal' has no attribute 'SIGALRM'\n",
      "處理完成，已保存所有結果\n"
     ]
    },
    {
     "name": "stderr",
     "output_type": "stream",
     "text": [
      "\n"
     ]
    }
   ],
   "source": [
    "\n",
    "# 使用示例\n",
    "# documents = [...]  # 您的文檔列表\n",
    "# results #= {}  # 如果有之前的結果，可以從文件中加載\n",
    "\n",
    "# process_documents(documents, results)"
   ]
  },
  {
   "cell_type": "code",
   "execution_count": 11,
   "metadata": {},
   "outputs": [
    {
     "name": "stdout",
     "output_type": "stream",
     "text": [
      "{0: ['What characteristics define sporting dog personalities?', 'How do hounds typically behave in terms of personality?', 'What influences the personalities of different dog breeds?', 'In what ways do breed-specific traits affect dog behavior?', 'Can you explain the typical temperaments of sporting dogs compared to hounds?'], 1: ['What is the typical behavior of working and herding dogs?', 'How do herding dogs evaluate situations?', 'Do Collie puppies show any instinctive behaviors?', 'What kind of disposition do working dogs have?', 'How do working dogs approach their tasks?'], 2: ['What dog breeds are recognized for their loyalty?', 'Can you name a loyal dog breed?', 'Which breeds exemplify loyalty in dogs?', 'What are some examples of loyal dog breeds?', 'Are Collies and Akitas considered loyal dogs?'], 3: ['What natural behaviors are common in young guarding dogs?', \"How do early experiences influence a guarding dog's protective instincts?\", 'What are guarding dogs naturally protective of during their early development?', 'In what environments are young guarding dogs typically raised?', 'Why are guarding dogs placed with other animals at a young age?'], 4: [\"What factors influence a dog's adaptability to new surroundings or owners?\", 'Can certain breeds adapt better than others to new environments?', \"In what ways do instinctive behaviors affect a dog's ability to adjust?\", 'Are there specific behaviors tied to dog breeds that impact their adaptability?', 'Do mixed breed dogs have unique instincts that affect their environment adjustment?'], 5: ['What are the essential needs for the well-being of puppies?', 'How can I ensure my puppy grows healthy and happy?', 'What must I provide to help my puppy develop properly?', \"What basic requirements should I meet for my puppy's thriving?\", 'What factors contribute to a thriving puppy?'], 6: ['How many times a day should I feed my puppy?', \"At what age can I reduce my puppy's feeding frequency?\", 'When can I switch my puppy to twice a day feeding?', 'How often do puppies need to eat until they are six months old?', 'What is the feeding schedule for my dog after six months?'], 7: ['What risks do overweight puppies face during growth?', 'What are the consequences of underfeeding puppies?', \"How can obesity affect a puppy's bone health?\", \"What impact does insufficient food have on a puppy's energy levels?\", 'What are the dangers of being underfed for growing puppies?'], 8: ['What are the different kinds of dog foods available on the market?', 'What should I look for on the labels of dog food?', 'How many types of dog food can I choose from?', 'What ingredients should I check when selecting dog food?', 'Can you tell me about the nutrient components in dog food?'], 9: ['Why is it essential to exercise my dog?', \"What happens if my dog doesn't get enough exercise?\", \"Can insufficient exercise affect my dog's behavior?\", 'What types of destructive behavior are caused by lack of exercise?', 'How can I ensure my dog gets adequate exercise?'], 10: [\"What impact do a dog's instincts have on its learning abilities?\", \"How do a dog's instincts relate to its behavior based on breed?\", 'Are guarding breeds more or less likely to chase scents due to instincts?', 'In what ways do retriever breeds display friendliness based on their instincts?', \"How does a dog's purpose influence its instinctual behavior?\"], 11: ['What principles should I follow for effective dog training?', 'How important is communication in dog training?', 'What role does praise play in training my dog?', 'Why is consistency important in training my dog?', 'How should I address misbehavior in my dog during training?'], 12: [\"What grooming practices are essential for my dog's health?\", \"How does grooming contribute to my dog's well-being?\", 'What specific grooming tasks should I perform regularly for my dog?', 'How can grooming help me identify health issues in my dog?', 'What are the benefits of ear cleaning and nail trimming for my dog?'], 13: ['What diseases are puppies vaccinated against?', 'At what age do puppies start getting vaccinations?', 'When do puppies receive their rabies vaccination?', 'How often are booster shots given for dog vaccinations?', 'What vaccinations are included in the typical puppy vaccination schedule?'], 14: ['What annual testing should I conduct for heartworm disease in my dog?', 'When should I start giving heartworm preventative measures for my dog?', 'Are there specific regions where heartworm is more prevalent for dogs?', 'How long should my dog be on heartworm preventative measures?', 'What should I do if my dog tests positive for heartworm disease?'], 15: ['What are effective methods for managing fleas and ticks on dogs?', 'How important is bathing in controlling external parasites for dogs?', 'Is it necessary to treat the environment to control fleas and ticks?', 'Does the climate affect the approach to parasite control in dogs?', 'Should flea and tick control be done year-round in some areas for dogs?'], 16: ['What are the typical indications of internal parasites in dogs?', 'How can I tell if my dog has internal parasites?', 'What should I do if I suspect my dog has internal parasites?', 'How often should I have my puppy checked for parasites?', 'Why is it necessary to identify the type of parasite affecting my dog?'], 17: ['What health issues do dogs commonly experience?', 'Are there specific health risks based on dog breeds?', 'What breeds are prone to gastric dilatation volvulus?', 'Do all breeds face the same health problems?', 'Which conditions are common among large dog breeds?'], 18: ['How well do dogs adapt when they lose their vision?', 'What senses do dogs rely on the most after vision loss?', 'What are some common eye diseases that affect dogs?', 'Can dogs go blind from eye problems, and if so, what are those problems?', 'Why is it important to detect eye issues in dogs early?'], 19: ['What health issues do Pekingese dogs face due to their eyes?', 'Are pugs at risk for eye problems?', 'What kind of ear diseases affect basset hounds?', 'Why do some dog breeds have specific health concerns?', 'How important is it to treat eye and ear issues in dogs?'], 20: ['Why is taurine crucial for cats?', 'How can I ensure my cat gets enough taurine?', \"What does taurine do for a cat's health?\", 'Is taurine necessary for all life stages of cats?', 'What type of cat food should I choose for taurine?'], 21: [\"How much of a cat's diet should consist of treats?\", \"What percentage of my cat's diet can safely be treats?\", 'What ingredients should I watch out for in cat treats?', 'Are there any toxic ingredients for cats in treats I should avoid?', 'Can you name some harmful substances in cat treats?'], 22: ['When is it necessary to take my cat to the vet for anorexia?', \"When should I be concerned about my cat's diarrhea?\", 'What signs in my cat require a veterinary visit?', 'How long can my cat show lethargy before I should seek help?', 'Is it urgent to see a vet for vomiting in my cat?'], 23: ['What are the benefits of grooming my cat regularly?', \"How can I keep my cat's coat clean through grooming?\", 'Does regular grooming help with shedding in cats?', 'Why do cats not need baths often?', 'What grooming methods are recommended for my cat?'], 24: ['What should my outdoor cat wear for safety?', 'Why is it advised to keep cats indoors?', 'What identification methods are recommended for outdoor cats?', 'What risks do outdoor cats face?', 'How can I protect my cat from predators?'], 25: ['Why do cats scratch their claws?', 'What do cats achieve by scratching?', \"How can I support my cat's scratching behavior?\", 'What material is best for a scratching post?', 'What should I provide for my cat to fulfill its scratching need?'], 26: ['How often should my cat visit the veterinarian for health check-ups?', 'What vaccinations does my cat need throughout its life?', 'Is it important to take my cat to the vet if it seems sick?', 'What factors determine the vaccination schedule for my cat?', 'How can I tell if my cat is injured and needs immediate veterinary care?'], 27: [\"What could happen if I give my cat medication without a vet's prescription?\", \"Is it safe to give my cat human medications without a vet's advice?\", 'Why should I consult a veterinarian before giving my cat any medication?', 'Can over-the-counter medications harm my cat if used without veterinary guidance?', 'What are the risks of administering medications to my cat without a prescription?'], 28: ['Why should I spay or neuter my cat?', 'What are the benefits of spaying and neutering for cats?', 'At what age should I spay my female cat?', 'When is the right time to neuter my male cat?', 'How does spaying and neutering help control the cat population?'], 29: [\"How can I maintain my cat's dental health?\", \"What is the best way to brush my cat's teeth?\", 'Is it necessary to use specific toothpaste for my cat?', \"What can happen if I neglect my cat's dental care?\", \"Are there any preventative measures for my cat's dental issues?\"], 30: ['What are the benefits of taking my dog for regular walks?', 'How do walks help prevent boredom in dogs?', \"In what ways can regular walking contribute to my dog's digestive health?\", 'Can walking my dog help maintain their weight, and if so, how?', \"How do regular walks affect my dog's behavior at home?\"], 31: ['What can I do to make my dog eat more slowly during mealtimes?', 'Why is it necessary for my dog to eat at a slower pace?', 'Are there specific tools recommended to help prevent fast eating in dogs?', 'What could happen if my dog continues to eat too quickly?', \"What is the connection between fast eating and my dog's digestive health?\"], 32: ['How can I help my dog stay cool during hot days?', 'What should I provide for my dog to ensure they are cool in heat?', 'Are there any specific signs of overheating I should be aware of for my dog?', 'Is it beneficial to use a kiddie pool for my dog in warm weather?', 'What measures can I take to protect my dog from hot weather?'], 33: ['What are the dangers of toxic algae for my dog in summer water activities?', 'How can I ensure my dog’s safety at ponds and lakes during the summer?', 'What should I look for before taking my dog to a water source?', 'Are there specific warnings I should check regarding toxic algae?', 'Can toxic algae be fatal to dogs, and how can I prevent exposure?'], 34: ['What hazards do parked cars pose to dogs in hot weather?', 'Can dogs get heatstroke from being left in parked cars?', 'Is it safe to leave dogs in cars with windows cracked?', 'What are the consequences of leaving a dog in a parked car?', 'How quickly can temperatures rise inside a parked car?'], 35: ['What does a Korat cat look like?', 'Can you describe the characteristics of a Korat cat?', 'How affectionate are Korat cats towards their owners?', 'What is the size and build of a Korat cat?', 'How intelligent is a Korat cat compared to other breeds?'], 36: ['What are the differences between Javanese and Siamese cats?', 'What traits make Javanese cats unique compared to Siamese?', 'Are Javanese cats known for being affectionate?', 'How active are Javanese cats in comparison to Siamese?', 'Do Javanese cats have a chatty personality like Siamese cats?'], 37: ['What are the unique physical characteristics of the Japanese Bobtail?', \"How does the Japanese Bobtail's tail look?\", 'What personality traits are common in the Japanese Bobtail?', 'How playful is the Japanese Bobtail?', 'What kind of affection does the Japanese Bobtail show towards its owners?'], 38: ['What distinguishes the Himalayan cat from the Persian breed?', 'Can you describe the ideal appearance of a Himalayan cat?', 'What type of coloring does the Himalayan cat have?', 'How does the grooming requirement of a Himalayan cat compare to other breeds?', 'Are Himalayans affectionate towards their owners?'], 39: ['What is the size and coat color of the Havana Brown cat?', \"Can you describe the features of the Havana Brown cat's face?\", 'What kind of eyes does the Havana Brown cat have?', 'What type of ears are found on the Havana Brown cat?', 'How does the Havana Brown cat rank in terms of attention needs and intelligence?'], 40: ['What does the Burmilla cat look like?', \"How would you describe the Burmilla cat's personality?\", 'Is the Burmilla cat good with pets and children?', 'What size is the Burmilla cat?', 'What type of appearance does the Burmilla cat have?'], 41: ['What can you tell me about the physical traits of the Burmese cat?', 'How would you describe the behavior of a Burmese cat?', 'Are Burmese cats good with kids?', 'What is the size of a Burmese cat?', 'Is the Burmese cat known for being playful?'], 42: ['What does a British Shorthair cat look like?', 'How is the temperament of a British Shorthair cat described?', 'What type of coat does the British Shorthair have?', 'Are British Shorthairs good with children?', 'How does the appearance of the British Shorthair convey balance?'], 43: ['What are the physical characteristics of the Bombay cat?', 'Can you describe the personality of the Bombay cat?', 'How would you characterize the size of a Bombay cat?', 'What type of temperament does a Bombay cat have?', 'Is the Bombay cat generally friendly and affectionate?'], 44: ['What does a Birman cat look like?', 'Can you tell me about the personality of a Birman cat?', 'What kind of fur does a Birman cat have?', 'How would you describe the head structure of a Birman cat?', 'Are Birman cats known for being friendly?'], 45: ['What should I do first if my cat goes missing?', 'How can I effectively search for my lost cat outdoors?', 'Is it helpful to talk to my neighbors about my missing cat?', 'What items should I take with me when searching for my lost cat?', 'How can I create a missing cat poster?'], 46: ['What steps should I take if my indoor cat goes missing?', 'How far do indoor cats usually wander when lost?', 'What should I do first when searching for my lost indoor cat?', 'Should I inform my neighbors if my indoor cat is lost?', 'Is it helpful to contact local shelters when my indoor cat is missing?'], 47: ['What can I do to encourage my lost cat to find its way home?', 'How important is it to have a collar and ID for my cat?', 'What should I do to inform my neighborhood about my missing cat?', 'Is there a strategy for setting up a trap for my cat?', 'How should I create a missing cat poster to maximize visibility?'], 48: ['How can I communicate with my lost cat?', 'What should I do in the dark to find my cat?', 'How can I reassure my lost cat?', 'What methods can I use to connect with my cat if they are missing?', \"Is it helpful to call my lost cat's name?\"], 49: ['What should I write on a poster for my missing cat?', 'How can I describe my cat on the lost pet poster?', 'What contact details should I include for people to reach me about my missing cat?', 'Are there any specific photos I should use for the missing cat poster?', 'What location details should I mention when my cat was last seen?'], 50: [\"What options do I have for handling my pet's body after it passes away?\", 'Can I bury my pet at home, and what are the requirements?', \"What should I consider if I want to use a pet cemetery for my pet's burial?\", \"How can I handle my pet's remains if I choose cremation?\", \"What is the process of rendering a pet's body after it dies?\"], 51: ['Can my pet be buried in a pet cemetery?', 'What burial options do pet cemeteries offer for my pet?', 'How are the remains of my pet prepared for burial?', 'What is the difference between a private burial and a communal burial in a pet cemetery?', 'Do pet cemeteries provide any memorial options for buried pets?'], 52: ['What is involved in the cremation process for my deceased pet?', 'What do the remains of my pet look like after cremation?', \"Can I keep my pet's cremains in an urn?\", \"Are there options for burial or scattering of my pet's remains?\", 'How can I ensure that my pet receives an individual cremation instead of a mass cremation?'], 53: ['Is home burial a legal option for my pet?', 'What should I do to prepare the body for home burial?', 'How deep should I bury my pet if I choose home burial?', 'What precautions can I take to prevent other animals from disturbing the burial site?', 'Is home burial a good choice if I move often?'], 54: [\"What does rendering mean for a pet's body?\", \"How is rendering used in relation to my pet's body?\", 'Can rendering be a beneficial option for my pet?', 'Where can I find information about rendering in my community?', 'Who should I ask about rendering services for my pet?'], 55: ['What tips can I follow to build effective shelters for feral cats?', 'How should I ensure that shelters remain dry for the cats?', 'Why is it important to have two entrances in cat houses?', 'What preparations should I make before winter for the cat shelters?', 'How can I provide fresh water for feral cats in winter?'], 56: ['What steps should I take to implement TNR for feral cats in my area?', 'How do I arrange for spaying or neutering of the feral cats I trap?', 'What kind of traps should I use for catching feral cats?', 'When is the best time to set traps for feral cats?', 'How can I safely transport the trapped feral cats to the veterinarian?'], 57: ['What steps should I take after trapping a feral cat to ensure its security?', 'How can I make a trapped feral cat feel more comfortable?', 'What should I do with a trapped feral cat after I catch it?', 'Is there any way to identify feral cats that have already been spayed or neutered?', 'Should I document details about the trapped feral cat, and if so, how?'], 58: ['What precautions should I take before starting my car to protect stray cats during winter?', 'Why is it important to be cautious with antifreeze around cats?', 'What type of shelter can I provide for feral cats to keep them warm in winter?', 'Where should I place the shelters for feral cats to ensure their safety?', 'Are there any harmful substances I should avoid using near stray cats in the winter?'], 59: ['What should I do if I find abandoned cats or kittens nearby?', 'How can I help stray cats and kittens I discover in my area?', 'What immediate needs should I consider for abandoned cats I find?', 'Where can I get assistance for stray cats and kittens I encounter?', 'How can I locate the owner of an abandoned cat?'], 60: ['What steps should I take if I think a cat has been abandoned near me?', 'How can I care for a suspected abandoned cat temporarily?', 'Who should I contact for help if I find a cat that might be abandoned?', 'What should I do to help find the owner of a cat I suspect is lost?', 'Is it possible to find a new home for an abandoned cat if the owner is not found?'], 61: ['What can I do if my local shelter cannot take in my mother cat and her kittens due to lack of space?', 'How can I find alternative solutions if my shelter is full for a mother cat and her kittens?', \"What should I do first when my local shelter can't accommodate a mother cat and her kittens?\", 'Is it safe to bring in a mother cat and her kittens temporarily if my shelter is unable to help?', 'How can I care for stray cats on my property while dealing with an overfull shelter?'], 62: ['What steps can I take to train my cat to enjoy car rides?', 'How can I determine if my cat might have motion sickness?', 'What is the best way to introduce my cat to the car gradually?', 'How can I reward my cat for calm behavior during car exposure?', 'What precautions should I take for long trips with my cat in the car?'], 63: ['What steps can I take to socialize feral kittens and make them adoptable?', 'How can I create positive associations between feral kittens and humans?', 'What should I do to help feral kittens trust people?', 'Is it beneficial to introduce feral kittens to different people and environments?', 'Should I consider fostering feral kittens with a rescue organization?'], 64: ['What is the historical connection between cats and witches?', 'Why did witches keep cats as companions?', 'How did cats serve in witchcraft practices?', 'What role did cats play as familiars in history?', 'Why were cats thought to be supernatural partners for witches?'], 65: ['What traits of cats contributed to their association with evil?', \"How does a cat's behavior relate to beliefs about evil?\", 'Why might people view cats differently from other pets?', 'What role does independence play in the perception of cats?', 'Can you explain the connection between nocturnal activity and negative beliefs about cats?'], 66: ['What superstitions are associated with black cats and Halloween?', 'Do some cultures view black cats differently on Halloween?', 'Is there a belief that black cats bring bad luck on Halloween?', 'What are the historical beliefs regarding black cats on Halloween?', 'Can black cats be seen as a sign of good fortune in any culture?'], 67: ['What are some methods to reduce stress for a cat during car trips?', 'How can I help my cat feel more comfortable in the car?', \"What steps can I take to improve my cat's experience in the car?\", 'How can I create positive associations for my cat related to car rides?', 'What should I do to help my cat adjust to longer car trips?'], 68: ['What was the significance of cats in ancient Egyptian culture?', 'How did ancient Egyptians view the role of cats?', 'Why were cats considered important in homes during ancient Egyptian times?', 'What beliefs did ancient Egyptians have about cats and their protection abilities?', 'In what ways did cats contribute to the safety of ancient Egyptian households?'], 69: [\"How did Bastet's image evolve in ancient Egypt?\", 'What aspects of life did Bastet represent as worship changed?', 'Why were cats treated as valued family members in ancient Egypt?', 'In what ways did the worship of Bastet reflect the domestication of cats?', 'What is the significance of Bastet being a goddess of family and love?'], 70: ['What myths contribute to the negative reputation of cats in folklore?', 'How do superstitions affect the perception of cats in stories?', 'What specific beliefs about cats are mentioned in old tales?', 'Why might some people view cats as ominous according to historical beliefs?', 'In what ways have old stories shaped the view of cats in culture?'], 71: ['Are cats still considered a risk for Sudden Infant Death Syndrome?', 'What is the current view on cats and SIDS?', 'Can cats cause Sudden Infant Death Syndrome in infants?', 'What are the causes of Sudden Infant Death Syndrome today?', 'How has the understanding of SIDS changed regarding cats?'], 72: [\"What factors influence a cat's choice between wet and dry food?\", \"How do odor and consistency affect a cat's food preference?\", \"In what ways do taste and learned habits impact a cat's dietary choices?\", 'Are there specific characteristics of food that cats might prefer?', 'What key elements should I consider when selecting cat food type?'], 73: ['What factors should I consider when choosing between wet and dry cat food?', 'Are there any health needs that could influence the type of food I select for my cat?', \"Can a single type of cat food meet all my pet's nutritional needs?\", \"How do I determine my cat's food preferences?\", 'Is one type of cat food generally healthier than the other?'], 74: [\"What are some ways to enhance the appeal of my cat's food?\", \"How can I make my cat's food smell more enticing?\", 'Is warming cat food a good idea to encourage eating?', \"How does the texture of food affect my cat's appetite?\", 'What should I do if my cat is reluctant to eat?'], 75: [\"Is dry cat food bad for a cat's mouth?\", 'Can dry cat food help with dental hygiene for cats?', 'Are there any risks of dry cat food for cats with dental issues?', \"Does dry cat food clean a cat's teeth?\", \"How does the consistency of dry cat food benefit a cat's dental health?\"], 76: [\"What is the best way to change my cat's diet?\", 'How long should I take to introduce a new food to my cat?', \"Is there a specific amount of food I should offer when changing my cat's diet?\", \"Should I change my cat's diet all at once or gradually?\", \"What problems can occur if I don't adjust my cat's food slowly?\"], 77: ['What are the advantages and disadvantages of semi-moist cat food?', \"How does canned wet cat food help my cat's health?\", 'What are the benefits of dry cat food for my cat?', 'Is semi-moist cat food worth the higher cost?', \"Can dry cat food improve my cat's dental hygiene?\"], 78: ['What are the different categories of cat food based on quality?', 'How does super-premium cat food differ from premium cat food?', 'What are the characteristics of low-cost cat food?', 'Why might low-cost cat food require larger quantities for nutrition?', 'What makes super-premium cat food nutrient-dense and digestible?'], 79: [\"What influences a cat's decision to eat its food?\", \"Which factors affect a cat's eating habits?\", \"How do smell and texture impact a cat's food consumption?\", \"Are taste and smell important for a cat's food preferences?\", 'What determines if my cat will eat the food I provide?'], 80: ['What should I look for on cat food labels for a complete diet?', 'How can I tell if cat food is balanced?', 'Are there specific terms on labels indicating quality in cat food?', 'What signifies that cat food meets nutritional standards?', 'Is there a guideline for choosing complete cat food?'], 81: [\"What six nutrients should be included in a cat's diet?\", 'Can you list the essential nutrients for cats?', \"What should be in my cat's diet for proper nutrition?\", \"Which nutrients are vital for a cat's health?\", \"What are the key components of a cat's dietary needs?\"], 82: ['Why should I consider the reputation of the cat food manufacturer?', \"What does a good manufacturer's reputation indicate for cat food?\", 'How does reputation relate to the safety of cat food?', 'Why is quality control testing relevant when selecting cat food?', \"What factors should I look at regarding a cat food brand's reputation?\"], 83: ['What factors should I consider when choosing a diet for my cat?', \"How does my cat's age affect its nutritional needs?\", 'Do kittens require a different diet compared to older cats?', \"What nutrients are essential for a kitten's diet?\", \"How can I ensure my cat's diet is appropriate for its life stage?\"], 84: ['How can I find the calorie content of wet cat food?', \"Where can I check the calorie information for my cat's food?\", \"What should I do if the calorie content isn't listed on the label?\", 'Can I contact manufacturers for calorie content of wet cat food?', 'Are there online resources for wet cat food calorie information?'], 85: [\"What factors influence a cat's calorie requirements?\", \"How does wet cat food's moisture content compare to dry food?\", 'What is the moisture percentage in wet cat food versus dry food?', \"How do age and weight play a role in a cat's dietary needs?\", 'Is wet cat food less calorie-dense than dry food?'], 86: ['What nutritional benefits does wet cat food offer compared to dry food?', \"How does wet cat food support a cat's diet in terms of protein and fat?\", 'Is wet cat food more hydrating for my cat than dry food?', \"What makes wet cat food better suited for my cat's needs?\", 'Can wet cat food help in reducing carbohydrate intake for my cat?'], 87: ['What advantages does wet cat food offer for overweight cats?', 'In what way can wet cat food assist in weight management for my cat?', 'How does wet cat food contribute to reducing obesity-related health risks in cats?', 'Can wet cat food help my overweight cat with its dietary needs?', 'What makes wet cat food suitable for cats struggling with weight issues?'], 88: ['What factors should I think about when selecting cat food?', 'Are there cost differences between wet and dry cat food?', 'Do I need to refrigerate wet cat food?', 'How long can I store dry cat food before it goes bad?', 'What is the shelf life of wet cat food?'], 89: ['What homemade treats can I make for my cat during summer?', 'Can you list some summer cat treat recipes?', 'What are the names of the cat treats that can be made at home in summer?', 'Which recipes are suggested for homemade cat treats in the summer?', 'What are two examples of summer treats for cats that I can make myself?'], 90: ['What ingredients are needed for the Meaty Mix cat treat?', 'How much tuna is required for the Meaty Mix treat?', 'What type of baby food is used in the Meaty Mix recipe?', 'How do you prepare the Meaty Mix treat for freezing?', 'Is there any specific type of catnip needed for the Meaty Mix?'], 91: ['What ingredients do I need to make Catsicles for my cat?', 'How do I prepare the mixture for Catsicles?', 'How long do I need to freeze the Catsicles?', 'What is the best way to remove the Catsicle from the cup after freezing?', \"How should I present the Catsicle to my cat once it's ready?\"], 92: ['Is it safe for cats to consume grapes?', 'What fruits should I avoid giving my cat?', 'Can small amounts of grapes harm my cat?', 'Are raisins toxic to cats like they are to dogs?', 'What are the dangers of feeding my cat grapes?'], 93: ['Why do some cats show interest in eating grapes despite their inability to taste sweetness?', 'What might motivate a cat to chew on grapes?', 'Is there a specific reason cats are drawn to the texture of grape stems?', 'How can I prevent my cat from accessing grapes and other potentially harmful foods?', 'What should I do if I catch my cat trying to eat grapes?'], 94: ['Are grapes safe for cats if they are cooked?', 'Can cats eat cooked raisins?', 'What about currants for cats? Are they safe when cooked?', 'Does cooking remove the toxicity of grapes for cats?', 'Should I keep grape products away from my cat?'], 95: ['Do pets recognize harmful foods instinctively?', 'Can animals tell which foods are safe to eat?', 'Are animals aware of dangerous food items?', 'Do pets have an instinct about what they can eat?', 'Why do pets sometimes try unfamiliar foods?'], 96: ['What should I look for if I suspect my cat has kidney failure from grapes?', 'What symptoms indicate kidney failure in cats due to grape ingestion?', 'How can I tell if my cat has been affected by grape toxicity?', 'What are the early signs of kidney failure in cats after eating grapes?', 'What issues should I monitor in my cat related to grape toxicity?'], 97: ['What steps should I take if my cat consumes grapes, raisins, or currants?', 'Is it important to know how much my cat has eaten if it ingests grapes or raisins?', 'Who should I contact for help if my cat eats something toxic like grapes?', 'Are there specific hotlines available for pet poisoning emergencies?', 'What should I do immediately after finding out my cat has eaten currants?'], 98: ['What steps will a vet take for a cat that may have eaten grapes?', \"How can a veterinarian remove grapes from a cat's stomach?\", 'What is activated charcoal used for in cases of grape poisoning in cats?', 'Are there additional treatments if a cat is poisoned by grapes?', 'How does the vet support kidney function after grape poisoning in cats?'], 99: ['Is it safe for cats to eat apples?', 'What parts of an apple should cats avoid?', 'Are apple seeds harmful to cats?', 'Can the skin of apples be toxic for cats?', 'What should I be cautious about when giving my cat apple?'], 100: ['What reasons might lead my cat to nibble on apples?', 'Do cats enjoy the taste of apples, or is it something else?', 'Is there a specific texture that attracts cats to apples?', 'Could a peeled and cored apple be a toy for my cat?', 'Are there any safety concerns regarding cats nibbling on apples?'], 101: ['Is it harmful for cats to consume sugar?', \"How does sugar affect a cat's health over time?\", \"What dietary guidelines should I follow for my cat's treats?\", \"What percentage of calories should treats make up in a cat's diet?\", \"Can being overweight increase a cat's risk of diabetes?\"], 102: ['Is it safe for cats to have applesauce?', 'What type of applesauce is best for my cat?', 'Can I give my cat commercial applesauce?', 'Should I avoid added sugar in applesauce for my cat?', 'How often can I give my cat applesauce as a treat?'], 103: ['How often can I give my cat apples or other fruits?', \"Are fruits a suitable regular part of my cat's diet?\", 'What is the main source of nutrients for cats?', 'Can cats digest uncooked carbohydrates well?', \"Why should I limit fruits in my cat's diet?\"], 104: ['What should I offer my cat if they show interest in human food?', \"How can I satisfy my cat's curiosity for human treats?\", 'Are there safe alternatives I can give to my cat instead of human food?', 'Can I make homemade treats for my cat?', 'What types of commercial treats are suitable for my cat?'], 105: ['What are the risks of giving my cat too many treats?', \"How do treats contribute to a cat's daily calorie intake?\", \"What percentage of my cat's calories should come from treats?\", 'How can I prevent my cat from becoming obese due to treats?', \"Is there a recommended limit for treats in my cat's diet?\"], 106: ['What kinds of cat treats can I find in stores?', 'Do any cat treats provide health advantages?', 'How do treats claim to help with health issues like hairballs?', 'Is there a recommended frequency for giving treats to my cat?', 'How can I identify treats that benefit dental health?'], 107: ['What issues can high-fat human foods cause for cats?', \"How do high-fat foods affect a cat's digestion?\", 'What undesirable behaviors might occur if I share oily foods with my cat?', 'Why is it advisable to refrain from giving cats human food high in fat?', 'What are the consequences of sharing oily foods with my cat?'], 108: ['How can I track the calorie intake from treats for my cat?', 'Are calorie counts available for all cat treats?', \"What percentage of my cat's daily calories should come from treats?\", 'When did pet food manufacturers start labeling calorie counts?', \"Can human foods count towards my cat's treat calories?\"], 109: [\"What is the recommended carbohydrate percentage for a cat's diet?\", \"How should a cat's diet be balanced regarding sugars?\", \"What types of nutrients should primarily be in a cat's food?\", 'Can cats digest carbohydrates effectively?', 'What is the ideal carbohydrate range for feline nutrition?'], 110: ['Is it safe for cats to eat bananas?', 'Do bananas provide any benefits for cats?', 'What happens if a cat eats too many bananas?', 'What should be the primary diet for a cat?', 'Are there any essential vitamins in bananas for cats?'], 111: ['How should I serve bananas to my cat?', 'Why is the banana peel harmful to cats?', 'What size should I cut banana portions for my cat?', \"Can banana peels upset a cat's stomach?\", 'Are there any choking hazards with banana peels for cats?'], 112: [\"What side effects can bananas have on my cat's health?\", \"How could bananas affect my cat's blood sugar levels?\", 'Can feeding bananas to my cat cause digestive problems?', 'Is weight gain a concern when giving my cat bananas?', 'Should I limit the amount of banana I offer my cat?'], 113: ['Can cats eat bananas safely?', 'Why might some cats be curious about bananas?', 'Do cats enjoy the sweetness of bananas?', 'What are some summer treats I can make for my cat?', \"How should I manage my cat's banana intake?\"], 114: ['Is it safe for cats to eat strawberries?', 'Should I remove the leaves before giving strawberries to my cat?', 'How often can I give my cat strawberries?', 'Are there any risks to giving my cat strawberries?', 'What should I consider before feeding strawberries to my cat?'], 115: ['Is it safe for cats to consume strawberry stems?', 'What can happen if a cat eats strawberry leaves?', 'Should I remove anything before giving my cat strawberries?', 'Are strawberry stems and leaves hard for cats to digest?', \"What should I do to ensure my cat's safety when feeding strawberries?\"], 116: ['What happens if I give my cat too many strawberries?', 'Can overfeeding strawberries cause digestive problems in cats?', 'What are the signs of gastrointestinal upset in cats after eating strawberries?', 'How can I prevent my cat from having side effects from strawberry treats?', 'What should I do if my cat has diarrhea after eating strawberries?'], 117: ['Where can I find the calorie counts for dry cat food?', 'Are calorie counts usually on the packaging of dry cat food?', \"What should I do if the packaging doesn't list calorie counts?\", 'Can I calculate calorie counts myself for dry cat food?', 'Are there online resources to help with calorie counts for pet food?'], 118: ['Why should cat owners know the calorie content in dry cat food?', \"What role does the caloric content of dry cat food play in a cat's diet?\", 'How can knowing the calorie count of cat food help with weight management?', 'What is the difference in caloric density between dry and wet cat food?', 'Why is it important to prevent overfeeding in cats?'], 119: ['Is it necessary for my cat to eat both dry and wet food?', \"What factors should I consider for my cat's food preferences?\", 'Can a cat live healthily on just dry food?', 'How can I determine the best diet for my cat?', \"Should I consult a veterinarian about my cat's diet?\"], 120: ['Can cats taste sweet fruits like strawberries or bananas?', \"Why can't cats taste sweetness?\", \"What do cats prefer to eat if they can't taste sweetness?\", 'Do cats show any interest in fruits like strawberries or bananas?', \"What drives a cat's curiosity towards fruits?\"], 121: ['What steps should I take to feed my cat a strawberry safely?', 'Is it necessary to wash the strawberry before giving it to my cat?', 'How much strawberry can I give my cat at one time?', 'What should I do if I notice an allergic reaction in my cat after feeding it a strawberry?', 'How often can I treat my cat with strawberries without exceeding its daily food intake?'], 122: ['Can cats be allergic to strawberries?', 'What symptoms indicate an allergic reaction in cats?', 'What should I observe if my cat has an allergy?', 'How can I tell if my cat is allergic to certain foods?', \"What signs should I look for in my cat's allergic reactions?\"], 123: ['Can cats eat strawberries safely?', 'Do strawberries provide any nutritional value for cats?', 'Are there any benefits of giving strawberries to cats?', 'What should I know about the sugar content in strawberries for cats?', 'Is it okay to offer my cat fruits like strawberries?'], 124: ['What are the side effects of giving strawberries to my cat?', 'Can strawberries cause obesity in cats?', 'What allergic reactions might cats have to strawberries?', 'Is gastrointestinal distress a concern when feeding strawberries to cats?', 'Can eating strawberries make my cat vomit or have diarrhea?'], 125: ['Can cats taste sweetness in fruits like strawberries?', 'Why do some cats show interest in strawberries?', 'What flavors are cats primarily attracted to?', 'Do cats have sweet taste receptors like humans?', \"Are cats's preferences for fruits based on taste or texture?\"], 126: ['What are probiotics and how do they help cats?', 'Can you explain the types of bacteria found in probiotics for cats?', 'In what ways do probiotics modulate the immune system of cats?', 'How do probiotics improve digestion for cats?', \"What role do probiotics play in preventing harmful bacteria in a cat's gut?\"], 127: ['What are the benefits of using probiotics for my cat?', \"How can probiotics help with my cat's diarrhea?\", 'Can probiotics support my cat during stressful situations?', \"How do probiotics assist in maintaining my cat's gut health?\", 'What can I do to prepare my young cat for upcoming stressful events?'], 128: ['What probiotics are commonly used for cats?', \"Which bacteria strains are beneficial for a cat's digestion?\", 'Can you name some probiotics for felines?', 'What are the main strains of probiotics for cats?', \"How do probiotics affect a cat's gut health?\"], 129: ['What side effects might my cat experience from probiotics?', 'Are probiotics safe for all cats?', 'How should I monitor my cat after starting probiotics?', 'Is it necessary to consult a vet before giving probiotics to my cat?', \"Could underlying health issues affect my cat's reaction to probiotics?\"], 130: [\"What steps should I take to incorporate probiotics into my cat's diet?\", 'Why is it important to consult with a veterinarian before giving probiotics to my cat?', 'What should I look for on the product label when choosing probiotics for my cat?', 'How do I determine the right dosage of probiotics for my cat?', 'What should I do if my cat refuses to swallow the probiotic?'], 131: ['What are important considerations when choosing probiotics for my cat?', 'How can I ensure the probiotic I select is safe and effective for my cat?', 'Should I give probiotics to my immunocompromised cat?', 'Which probiotic strains are recommended for cats?', 'How do antibiotics affect the use of probiotics in cats?'], 132: ['Is it safe to give my cat milk, and what are the reasons against it?', 'Why do most adult cats have trouble digesting milk?', 'What happens to cats that drink milk if they are lactose intolerant?', 'What are the common symptoms of lactose intolerance in cats?', 'Should I avoid giving milk to my cat completely?'], 133: ['Why is it important to limit alternative milk for my cat?', 'Can alternative milk lead to health issues in cats?', 'What are the risks of giving my cat too much alternative milk?', \"How does alternative milk affect my cat's diet?\", 'Should I give my cat alternative milk daily?'], 134: ['Why is it important for cats to maintain lean body mass?', \"How does lean body mass affect a cat's lifespan?\", 'What are the health benefits of good quality lean body mass in cats?', \"In what ways does lean body mass contribute to a cat's overall health?\", \"Can maintaining lean body mass improve a cat's quality of life?\"], 135: ['What health issues can arise from my cat being obese?', \"How does cat obesity affect my pet's life expectancy?\", 'Can obesity in cats lead to diabetes or cancer?', 'What are the health risks associated with overweight cats?', 'What serious conditions might my cat develop due to obesity?'], 136: ['What are the risks associated with over-the-counter supplements for pets?', 'Why might some supplements be harmful to my dog or cat?', 'When is it safe to use supplements for my furry friend?', 'What should I do before giving my pet any supplement?', 'Are there specific supplements that are recommended for pets?'], 137: ['When should I consider using lactose-free options for my cat?', 'Are lactose-free alternatives considered a daily food for cats?', 'How often can I give my cat lactose-free treats?', 'What type of rewards should I give my cat daily?', 'Is it okay to use lactose-free products regularly for my cat?'], 138: ['What are the reasons for a cat not burying its waste in the litter box?', \"How does a cat's early socialization affect its litter box behavior?\", 'Can a cat use feces to mark its territory?', 'What if my cat seems uncomfortable with the litter texture?', \"Are there factors from kittenhood that influence a cat's litter habits?\"], 139: ['What are effective methods for teaching my cat to bury waste in the litter box?', 'How can I encourage my cat to use the litter box properly?', 'Is there a way to train my cat to cover its waste?', 'What should I do to help my cat understand how to use the litter box?', 'Can rewarding my cat help in teaching it to bury its waste?'], 140: ['What methods can help my cat bury waste in the litter box?', \"How can I use clicker training for my cat's litter box habits?\", 'Should I try different types of litter for my cat?', 'What type of substrate might my cat prefer for burying waste?', 'Is there a way to create a positive association with the litter box for my cat?'], 141: ['What are the benefits of using a litter pan for cats?', 'Why should I consider a litter pan instead of toilet training for my cat?', \"How does a litter pan align with my cat's natural instincts?\", 'Is toilet training suitable for all cats?', 'What instinctive behaviors do cats have regarding their waste?'], 142: ['What are the downsides of toilet training kits for cats?', 'Why might toilet training kits not be useful for cats?', 'Can toilet training kits meet the needs of all cats?', 'What challenges do cats face during toilet training?', 'Is it natural for cats to use toilet training kits?'], 143: [\"What indicates a change in a cat's urination pattern?\", \"Why should I worry about my cat's urination habits?\", \"What can frequent urination mean for my cat's health?\", \"How does stress affect a cat's urination?\", 'What are the signs of urinary tract infections in cats?'], 144: ['Which breeds of cats are best for toilet training?', 'What age should a cat be for successful toilet training?', 'Are outgoing cats better for toilet training?', 'What personality traits help a cat with toilet training?', 'Can any cat breed be toilet trained effectively?'], 145: [\"What are effective ways to manage odors from a cat's litter box?\", 'How often should I scoop the litter to minimize smells?', 'Is there a specific cleaning schedule for the litter box I should follow?', 'What can I use to help absorb odors in the litter box?', 'How often should I clean the scooper used for the litter box?'], 146: ['What size litter box is recommended for my cat?', 'Why can smaller litter boxes be an issue for larger cats?', 'How does box size affect older cats with arthritis?', 'What is the minimum litter box length for a comfortable fit?', 'Are there specific sizes for overweight cats when choosing a litter box?'], 147: ['Why would my cat suddenly avoid the litter box?', 'What unpleasant experiences might cause a cat to stop using the litter box?', \"Could another cat influence my cat's litter box usage?\", 'What aspects of the litter box could my cat dislike?', 'How can I determine if my cat associates the litter box with discomfort?'], 148: ['What do I need to know about litter box setup for a new cat?', 'How many litter boxes should I provide for my new cat?', 'What type of litter depth is best when introducing my new cat to a litter box?', 'Where should I place the litter box for my new cat?', 'Is it okay to punish my new cat for litter box accidents?'], 149: ['Why should I have multiple litter boxes in my home?', 'What is the benefit of placing a litter box on each floor?', 'How does having a litter box on each level help my cat?', 'Is it necessary to have more than one litter box in my house?', 'What can happen if I don’t provide easy access to a litter box for my cat?'], 150: ['What are effective ways to prevent accidents when training a cat to use the litter box?', 'Should I punish my cat if it has accidents during litter box training?', 'What should I do if my cat suddenly stops using the litter box?', 'Why is it important to keep the litter box clean during training?', \"Could my cat's litter box issues indicate a medical problem?\"], 151: [\"What is the first thing to do if my cat isn't using the litter box?\", 'Why is it essential to check for health issues when my cat avoids the litter box?', \"How important is a veterinarian's examination for cats not using the litter box?\", 'What underlying problems could cause my cat to stop using the litter box?', 'What should I prioritize when my cat refuses the litter box?'], 152: ['What steps should I take to train my cat to use the litter box?', 'How should I confine my cat while training it to use the litter box?', 'Is there a specific room where I should begin the litter box training?', 'What is the process for allowing my cat more freedom during litter box training?', 'How do I know when my cat is reliably using the litter box?'], 153: ['What preferences do cats have regarding the location of their litter box?', \"How should I position the litter box for my cat's comfort?\", 'Where should I avoid placing the litter box in my home?', \"What factors should I consider for my cat's litter box placement?\", 'Why is it important for the litter box to have escape routes for my cat?'], 154: ['What should I do if my cat has a substrate preference for their litter box?', \"How can I handle my cat's aversion to certain litter types?\", 'Is it effective to provide different types of litter for my cat?', 'What steps can I take to ensure my cat is comfortable using the litter box?', 'How can I prevent litter box issues related to substrate preferences?'], 155: ['What are the best ways to prevent cats from entering gardens?', 'How can I use unpleasant smells to keep cats away from my flowers?', 'Are there specific plants that can deter cats in my yard?', 'What types of devices can help keep cats out of my garden?', 'How can I create an area to attract cats away from my flower beds?'], 156: ['What are some health issues that could cause a cat to poop outside the litter box?', 'How can litter box aversions lead to a cat pooping outside of it?', \"Can stress affect a cat's bathroom habits?\", 'What signs should I look for if my cat is uncomfortable using the litter box?', 'Is there a specific reason a cat may prefer to poop outside the litter box?'], 157: [\"What should I check for if my cat isn't using the litter box?\", 'What health problems could cause my cat to poop outside the box?', 'Are there specific issues to look into if my cat poops outside their litter box?', 'What health concerns may lead to a cat avoiding the litter box?', 'What conditions might my cat have if they are pooping outside their litter box?'], 158: [\"What are some tips to keep my cat's litter box inviting?\", \"How do I ensure my cat's litter box is appropriately sized?\", 'What factors should I consider when selecting litter for my cat?', \"Where is the best location for my cat's litter box?\", \"How often should I clean my cat's litter box to make it more welcoming?\"], 159: ['Why is positive reinforcement important in training my cat?', \"How does positive reinforcement help with my cat's behavior?\", 'What are the benefits of using positive reinforcement for cats?', 'Can positive reinforcement prevent stress in my cat?', 'What role does positive reinforcement play in cat training?'], 160: ['What are the benefits of using a clicker for training cats?', 'How does a clicker improve the training process for cats?', 'Can a clicker reduce the use of treats in cat training?', 'In what ways does a clicker enhance reward timing during cat training?', 'Why is a clicker considered an effective tool for training cats?'], 161: ['What is a good way to begin training my cat for agility at home?', 'Can I use something other than treats for training my cat?', 'How can I make training more engaging for my cat?', 'What type of equipment can I use for indoor agility training?', 'Is it possible to train my cat using a toy instead of food?'], 162: ['How can I train my cat to jump through a hoop?', 'What should I start with when training my cat with a hoop?', 'How do I encourage my cat to jump through a hoop?', 'What should I do as my cat improves at jumping through the hoop?', 'Should I use a toy or treat for training my cat with a hoop?'], 163: ['What is the best way to train my cat on an agility course?', 'How do I guide my cat over obstacles like an A-frame?', 'What tool can be used to encourage my cat during training?', 'How can I ensure my cat stays safe on the A-frame?', 'What should I watch for when my cat is approaching the A-frame?'], 164: ['What is considered the most advanced challenge in feline agility training?', 'Can you tell me the toughest obstacle in feline agility?', 'What advanced skill is needed for feline agility training?', 'In feline agility, what obstacle is deemed the most advanced?', 'What is a key advanced component of feline agility training?'], 165: ['What steps can I take to help my cat feel comfortable in its carrier?', 'How can I make the carrier more inviting for my cat?', 'What are some positive experiences I can associate with the carrier for my cat?', 'Is it helpful to place bedding and treats in the carrier for my cat?', 'How can I train my cat to enter the carrier on command?'], 166: ['How can I make my cat feel more comfortable in the carrier?', \"What steps can I take to reduce my cat's stress during travel?\", 'What is the best way to introduce my cat to the carrier?', 'How do I create positive experiences with a cat carrier?', 'What commands should I teach my cat for using the carrier?'], 167: [\"How can I get my cat to enter the carrier when I'm close by?\", 'What techniques help if my cat won’t go into the carrier with me around?', \"Is there a way to ease my cat into the carrier if it's hesitant?\", 'What should I try if my cat refuses the carrier while I am nearby?', 'How do I encourage my cat to enter the carrier when I’m present?'], 168: ['What is the typical timeframe for a cat to get used to a carrier?', 'How can I help my cat feel comfortable with the carrier?', 'Is it normal for a cat to take a while to explore the carrier?', 'What should I do if my cat is still hesitant about the carrier after a few days?', 'How patient do I need to be while my cat adjusts to the carrier?'], 169: [\"How can I effectively stop my cat's bad behavior?\", 'What should I do after distracting my cat from a negative action?', 'How do I redirect my cat to a better activity?', 'What are some ways to reward my cat for good behavior?', \"Can you explain the process for correcting my cat's behavior?\"], 170: ['What can I do to prevent my cat from jumping on surfaces like tables?', 'Are there materials I can use to deter my cat from countertops?', 'How should I reward my cat for jumping on designated areas?', 'What kind of alternative spots can I provide for my cat to perch?', 'Is it effective to use tinfoil or tape to keep my cat off surfaces?'], 171: ['How can I stop my cat from lying in freshly laundered clothes?', 'What should I do with clean laundry to keep it away from my cat?', 'Are there alternatives I can provide for my cat to sleep instead of my laundry?', 'Is there a way to discourage my cat from stealing my clean laundry?', 'What storage solutions can I use for clean clothes to protect them from my cat?'], 172: ['What can I do to stop my cat from scratching furniture?', 'How can I make scratching posts more attractive to my cat?', 'What materials can I use to deter my cat from furniture scratching?', 'What should I do when I catch my cat scratching the furniture?', 'How can I encourage my cat to use the scratching post instead?'], 173: ['What should I do when my kitten bites during playtime?', 'How can I train my kitten to stop biting?', \"What kind of toys can I use to redirect my kitten's energy?\", 'Should I react loudly when my kitten bites?', 'How can I reward my kitten for good behavior during play?'], 174: ['What factors should influence my decision about vaccinating my cat?', \"How can I assess my cat's risk of disease exposure before vaccination?\", \"What role does my cat's health status play in the vaccination decision?\", \"Why is my cat's past medical history important for vaccination?\", \"How can I make an informed decision regarding my cat's vaccinations?\"], 175: ['What should I read before purchasing flea products for my cat?', 'Why is it important to buy flea products specifically labeled for cats?', 'What should I do if my cat has a reaction to a flea product?', 'Is it necessary to keep the original packaging of flea products?', 'How do flea products applied to dogs affect untreated cats in the household?'], 176: ['What should cat owners avoid when using flea products?', 'Are all flea treatments that look alike safe for cats?', 'Can a small amount of dog flea product be safe for my cat?', 'Do cat and dog versions of the same brand have the same ingredients?', 'What are the common mistakes cat owners make with flea products?'], 177: ['What age should I spay or neuter my kitten?', 'At what weight should I consider spaying my puppy?', 'Is there a specific age for pediatric neutering of pets?', 'What are the benefits of spaying or neutering my pet at a young age?', 'Why is it important to spay or neuter pets early?'], 178: ['What concerns should I be aware of regarding neutering my young pet?', 'Are there long-term safety issues with neutering pediatric animals?', 'Could neutering my pet at a young age affect their growth and development?', 'What behavioral problems might arise from early neutering?', 'Is there an increased risk of health issues with pediatric neutering?'], 179: ['What condition is called heatstroke in pets?', 'What temperature indicates heatstroke in dogs and cats?', 'How do dogs and cats cool themselves down?', 'Why are dogs more prone to heatstroke than humans?', 'What are the risks of elevated core temperature in pets?'], 180: ['What commonly leads to heatstroke in pets?', 'How does leaving a pet in a parked car cause heatstroke?', 'Is cracking a window enough to prevent heatstroke in pets?', 'Can heatstroke occur on moderately warm days?', 'What temperature issues arise when a pet is left in a car?'], 181: ['What are the initial signs of heatstroke in pets?', \"How does a pet's body temperature indicate heatstroke?\", 'What advanced symptoms might indicate a pet is suffering from heatstroke?', 'What should I look for if my pet is disoriented?', 'Can heatstroke in pets lead to seizures?'], 182: ['What immediate actions should I take for a pet with heatstroke?', 'How can I cool my pet if they are experiencing hyperthermia?', \"Should I check my pet's temperature during a heatstroke situation?\", 'Where should I take my pet after performing first aid for heatstroke?', \"Which areas of my pet's body should I apply cool towels to in case of heatstroke?\"], 183: ['What time of day is best for exercising pets to prevent heatstroke?', 'Why is it especially important to monitor young kittens and senior cats during hot weather?', 'What should I do after my cat eats before playing with them?', 'Why should I avoid leaving pets in parked cars during hot weather?', 'How can I ensure my pet stays cool and hydrated during hot weather?'], 184: ['How are cat years converted to human years?', 'What makes cat aging different from dog aging?', 'What is the cat year to human year calculation for kittens under one year?', 'How many human years does a cat year equal after the second year?', 'Why is the aging process of cats considered unique?'], 185: ['How does the aging process of cats compare to that of humans?', 'Why is the one cat year equals seven human years belief considered inaccurate?', 'What is the age equivalency of a one-year-old cat in human years?', \"At what point does a cat's aging start to equal about four human years per cat year?\", 'What is the age equivalency of a two-year-old cat in comparison to humans?'], 186: ['What factors influence the aging of cats in human years?', \"How does a cat's lifestyle impact its aging process?\", \"Can a cat's diet affect how it ages compared to human years?\", \"Does regular veterinary care play a role in a cat's aging?\", 'Are there specific cat characteristics that change their aging rate?'], 187: ['What physical changes can occur in senior cats?', \"How does aging affect a cat's grooming habits?\", 'What are some common health conditions in aging cats?', \"How might a cat's appetite change as they age?\", 'What behavioral changes should I expect in my older cat?'], 188: [\"What steps can I take to improve my senior cat's quality of life?\", 'How can I detect health issues in my older cat early?', \"What role do regular vet visits play in my senior cat's health?\", 'How important is nutrition for my aging cat?', 'What kind of living environment is best for a senior cat?'], 189: ['What should I do if my cat is overweight?', 'How can I help my cat lose weight safely?', \"What role does diet play in managing my cat's weight?\", 'Is it important to consult a vet for my overweight cat?', \"How can I incorporate exercise into my cat's weight loss plan?\"]}\n"
     ]
    }
   ],
   "source": [
    "# import pickle\n",
    "\n",
    "# # 從檔案讀取 dictionary\n",
    "# with open('questions.pkl', 'rb') as file:\n",
    "#     loaded_dict = pickle.load(file)\n",
    "\n",
    "# print(loaded_dict)\n",
    "# results=loaded_dict"
   ]
  },
  {
   "cell_type": "code",
   "execution_count": 33,
   "metadata": {},
   "outputs": [],
   "source": [
    "final_results=[]\n",
    "for doc_id, questions in results.items():\n",
    "    for q in questions:\n",
    "        final_results.append((doc_id, q))\n",
    "      "
   ]
  },
  {
   "cell_type": "code",
   "execution_count": 34,
   "metadata": {},
   "outputs": [
    {
     "data": {
      "text/plain": [
       "(0, 'What characteristics define sporting dog personalities?')"
      ]
     },
     "execution_count": 34,
     "metadata": {},
     "output_type": "execute_result"
    }
   ],
   "source": [
    "final_results[0]"
   ]
  },
  {
   "cell_type": "code",
   "execution_count": 35,
   "metadata": {},
   "outputs": [],
   "source": [
    "df_results=pd.DataFrame(final_results,columns=['id','question'])"
   ]
  },
  {
   "cell_type": "code",
   "execution_count": 36,
   "metadata": {},
   "outputs": [],
   "source": [
    "df_results.to_csv('../data/ground-truth-retrieval.csv',index=False)"
   ]
  },
  {
   "cell_type": "code",
   "execution_count": 40,
   "metadata": {},
   "outputs": [],
   "source": [
    "df_retrival=pd.read_csv(\"../data/ground-truth-retrieval.csv\",index_col=0)"
   ]
  },
  {
   "cell_type": "code",
   "execution_count": 41,
   "metadata": {},
   "outputs": [
    {
     "data": {
      "text/html": [
       "<div>\n",
       "<style scoped>\n",
       "    .dataframe tbody tr th:only-of-type {\n",
       "        vertical-align: middle;\n",
       "    }\n",
       "\n",
       "    .dataframe tbody tr th {\n",
       "        vertical-align: top;\n",
       "    }\n",
       "\n",
       "    .dataframe thead th {\n",
       "        text-align: right;\n",
       "    }\n",
       "</style>\n",
       "<table border=\"1\" class=\"dataframe\">\n",
       "  <thead>\n",
       "    <tr style=\"text-align: right;\">\n",
       "      <th></th>\n",
       "      <th>question</th>\n",
       "    </tr>\n",
       "    <tr>\n",
       "      <th>id</th>\n",
       "      <th></th>\n",
       "    </tr>\n",
       "  </thead>\n",
       "  <tbody>\n",
       "    <tr>\n",
       "      <th>0</th>\n",
       "      <td>What characteristics define sporting dog perso...</td>\n",
       "    </tr>\n",
       "    <tr>\n",
       "      <th>0</th>\n",
       "      <td>How do hounds typically behave in terms of per...</td>\n",
       "    </tr>\n",
       "    <tr>\n",
       "      <th>0</th>\n",
       "      <td>What influences the personalities of different...</td>\n",
       "    </tr>\n",
       "    <tr>\n",
       "      <th>0</th>\n",
       "      <td>In what ways do breed-specific traits affect d...</td>\n",
       "    </tr>\n",
       "    <tr>\n",
       "      <th>0</th>\n",
       "      <td>Can you explain the typical temperaments of sp...</td>\n",
       "    </tr>\n",
       "    <tr>\n",
       "      <th>...</th>\n",
       "      <td>...</td>\n",
       "    </tr>\n",
       "    <tr>\n",
       "      <th>582</th>\n",
       "      <td>What are effective methods for addressing sepa...</td>\n",
       "    </tr>\n",
       "    <tr>\n",
       "      <th>582</th>\n",
       "      <td>How can I make my pet feel better when I leave...</td>\n",
       "    </tr>\n",
       "    <tr>\n",
       "      <th>582</th>\n",
       "      <td>What role does crate training play in helping ...</td>\n",
       "    </tr>\n",
       "    <tr>\n",
       "      <th>582</th>\n",
       "      <td>Is it advisable to seek help from a profession...</td>\n",
       "    </tr>\n",
       "    <tr>\n",
       "      <th>582</th>\n",
       "      <td>What should I do to help my pet cope with my d...</td>\n",
       "    </tr>\n",
       "  </tbody>\n",
       "</table>\n",
       "<p>2915 rows × 1 columns</p>\n",
       "</div>"
      ],
      "text/plain": [
       "                                              question\n",
       "id                                                    \n",
       "0    What characteristics define sporting dog perso...\n",
       "0    How do hounds typically behave in terms of per...\n",
       "0    What influences the personalities of different...\n",
       "0    In what ways do breed-specific traits affect d...\n",
       "0    Can you explain the typical temperaments of sp...\n",
       "..                                                 ...\n",
       "582  What are effective methods for addressing sepa...\n",
       "582  How can I make my pet feel better when I leave...\n",
       "582  What role does crate training play in helping ...\n",
       "582  Is it advisable to seek help from a profession...\n",
       "582  What should I do to help my pet cope with my d...\n",
       "\n",
       "[2915 rows x 1 columns]"
      ]
     },
     "execution_count": 41,
     "metadata": {},
     "output_type": "execute_result"
    }
   ],
   "source": [
    "df_retrival"
   ]
  },
  {
   "cell_type": "code",
   "execution_count": null,
   "metadata": {},
   "outputs": [],
   "source": []
  }
 ],
 "metadata": {
  "kernelspec": {
   "display_name": "Pet-Care-RAG-Application-DW-wRTOa",
   "language": "python",
   "name": "python3"
  },
  "language_info": {
   "codemirror_mode": {
    "name": "ipython",
    "version": 3
   },
   "file_extension": ".py",
   "mimetype": "text/x-python",
   "name": "python",
   "nbconvert_exporter": "python",
   "pygments_lexer": "ipython3",
   "version": "3.11.5"
  }
 },
 "nbformat": 4,
 "nbformat_minor": 2
}
