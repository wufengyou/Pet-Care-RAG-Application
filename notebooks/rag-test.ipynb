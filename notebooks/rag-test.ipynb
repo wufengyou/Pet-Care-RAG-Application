{
 "cells": [
  {
   "cell_type": "markdown",
   "metadata": {},
   "source": []
  },
  {
   "cell_type": "code",
   "execution_count": 2,
   "metadata": {},
   "outputs": [],
   "source": [
    "import pandas as pd"
   ]
  },
  {
   "cell_type": "code",
   "execution_count": 3,
   "metadata": {},
   "outputs": [
    {
     "data": {
      "text/html": [
       "<div>\n",
       "<style scoped>\n",
       "    .dataframe tbody tr th:only-of-type {\n",
       "        vertical-align: middle;\n",
       "    }\n",
       "\n",
       "    .dataframe tbody tr th {\n",
       "        vertical-align: top;\n",
       "    }\n",
       "\n",
       "    .dataframe thead th {\n",
       "        text-align: right;\n",
       "    }\n",
       "</style>\n",
       "<table border=\"1\" class=\"dataframe\">\n",
       "  <thead>\n",
       "    <tr style=\"text-align: right;\">\n",
       "      <th></th>\n",
       "      <th>id</th>\n",
       "      <th>Question</th>\n",
       "      <th>Answer</th>\n",
       "    </tr>\n",
       "  </thead>\n",
       "  <tbody>\n",
       "    <tr>\n",
       "      <th>0</th>\n",
       "      <td>0</td>\n",
       "      <td>What are some examples of breed-typical person...</td>\n",
       "      <td>Breed-typical personalities in dogs are develo...</td>\n",
       "    </tr>\n",
       "    <tr>\n",
       "      <th>1</th>\n",
       "      <td>1</td>\n",
       "      <td>How do working and herding dogs typically behave?</td>\n",
       "      <td>Working and herding dogs have business-like di...</td>\n",
       "    </tr>\n",
       "    <tr>\n",
       "      <th>2</th>\n",
       "      <td>2</td>\n",
       "      <td>Which breed of dogs is known for strong loyalty?</td>\n",
       "      <td>Collies and Akitas are known for their strong ...</td>\n",
       "    </tr>\n",
       "    <tr>\n",
       "      <th>3</th>\n",
       "      <td>3</td>\n",
       "      <td>What instincts do guarding dogs typically disp...</td>\n",
       "      <td>Guarding dogs tend to be protective of their t...</td>\n",
       "    </tr>\n",
       "    <tr>\n",
       "      <th>4</th>\n",
       "      <td>4</td>\n",
       "      <td>How does breed specificity impact a dog's abil...</td>\n",
       "      <td>Breed specificity affects how well dogs adapt ...</td>\n",
       "    </tr>\n",
       "  </tbody>\n",
       "</table>\n",
       "</div>"
      ],
      "text/plain": [
       "   id                                           Question  \\\n",
       "0   0  What are some examples of breed-typical person...   \n",
       "1   1  How do working and herding dogs typically behave?   \n",
       "2   2   Which breed of dogs is known for strong loyalty?   \n",
       "3   3  What instincts do guarding dogs typically disp...   \n",
       "4   4  How does breed specificity impact a dog's abil...   \n",
       "\n",
       "                                              Answer  \n",
       "0  Breed-typical personalities in dogs are develo...  \n",
       "1  Working and herding dogs have business-like di...  \n",
       "2  Collies and Akitas are known for their strong ...  \n",
       "3  Guarding dogs tend to be protective of their t...  \n",
       "4  Breed specificity affects how well dogs adapt ...  "
      ]
     },
     "execution_count": 3,
     "metadata": {},
     "output_type": "execute_result"
    }
   ],
   "source": [
    "df=pd.read_csv('Dog-Cat-QA.csv')\n",
    "df.head()"
   ]
  },
  {
   "cell_type": "code",
   "execution_count": 4,
   "metadata": {},
   "outputs": [
    {
     "name": "stdout",
     "output_type": "stream",
     "text": [
      "<class 'pandas.core.frame.DataFrame'>\n",
      "RangeIndex: 583 entries, 0 to 582\n",
      "Data columns (total 3 columns):\n",
      " #   Column    Non-Null Count  Dtype \n",
      "---  ------    --------------  ----- \n",
      " 0   id        583 non-null    int64 \n",
      " 1   Question  583 non-null    object\n",
      " 2   Answer    583 non-null    object\n",
      "dtypes: int64(1), object(2)\n",
      "memory usage: 13.8+ KB\n"
     ]
    }
   ],
   "source": [
    "df.info()"
   ]
  },
  {
   "cell_type": "code",
   "execution_count": 5,
   "metadata": {},
   "outputs": [
    {
     "data": {
      "text/plain": [
       "Index(['id', 'Question', 'Answer'], dtype='object')"
      ]
     },
     "execution_count": 5,
     "metadata": {},
     "output_type": "execute_result"
    }
   ],
   "source": [
    "df.columns"
   ]
  },
  {
   "cell_type": "code",
   "execution_count": 9,
   "metadata": {},
   "outputs": [
    {
     "name": "stderr",
     "output_type": "stream",
     "text": [
      "--2024-09-09 12:21:52--  https://raw.githubusercontent.com/alexeygrigorev/minsearch/main/minsearch.py\n",
      "Resolving raw.githubusercontent.com (raw.githubusercontent.com)... 185.199.108.133, 185.199.111.133, 185.199.109.133, ...\n",
      "Connecting to raw.githubusercontent.com (raw.githubusercontent.com)|185.199.108.133|:443... connected.\n",
      "HTTP request sent, awaiting response... 200 OK\n",
      "Length: 3832 (3.7K) [text/plain]\n",
      "Saving to: 'minsearch.py'\n",
      "\n",
      "     0K ...                                                   100% 12.1M=0s\n",
      "\n",
      "2024-09-09 12:21:52 (12.1 MB/s) - 'minsearch.py' saved [3832/3832]\n",
      "\n"
     ]
    }
   ],
   "source": [
    "# !wget https://raw.githubusercontent.com/alexeygrigorev/minsearch/main/minsearch.py\n"
   ]
  },
  {
   "cell_type": "code",
   "execution_count": 6,
   "metadata": {},
   "outputs": [],
   "source": [
    "import minsearch\n"
   ]
  },
  {
   "cell_type": "code",
   "execution_count": 29,
   "metadata": {},
   "outputs": [],
   "source": [
    "# documents = df[['Question', 'Answer']].to_dict(orient='records')\n",
    "\n",
    "documents = df.to_dict(orient='records')\n"
   ]
  },
  {
   "cell_type": "code",
   "execution_count": 8,
   "metadata": {},
   "outputs": [
    {
     "data": {
      "text/plain": [
       "{'Question': 'What are some examples of breed-typical personalities in dogs?',\n",
       " 'Answer': 'Breed-typical personalities in dogs are developed through generations of selection for certain traits. For example, sporting dogs are adventurous and responsive to humans, while hounds tend to be more independent and aloof.'}"
      ]
     },
     "execution_count": 8,
     "metadata": {},
     "output_type": "execute_result"
    }
   ],
   "source": [
    "documents[0]"
   ]
  },
  {
   "cell_type": "code",
   "execution_count": 30,
   "metadata": {},
   "outputs": [],
   "source": [
    "index = minsearch.Index(\n",
    "     text_fields=[\"Question\", \"Answer\"],\n",
    "     keyword_fields=['id']\n",
    ")"
   ]
  },
  {
   "cell_type": "code",
   "execution_count": 31,
   "metadata": {},
   "outputs": [],
   "source": [
    "q='which cat breed is the most friendly?'"
   ]
  },
  {
   "cell_type": "code",
   "execution_count": 32,
   "metadata": {},
   "outputs": [
    {
     "data": {
      "text/plain": [
       "<minsearch.Index at 0x19734a74a10>"
      ]
     },
     "execution_count": 32,
     "metadata": {},
     "output_type": "execute_result"
    }
   ],
   "source": [
    "index.fit(documents)\n"
   ]
  },
  {
   "cell_type": "markdown",
   "metadata": {},
   "source": [
    "## RAG flow"
   ]
  },
  {
   "cell_type": "code",
   "execution_count": 33,
   "metadata": {},
   "outputs": [],
   "source": [
    "from dotenv import load_dotenv\n",
    "load_dotenv()\n",
    "from openai import OpenAI\n",
    "client = OpenAI()\n"
   ]
  },
  {
   "cell_type": "code",
   "execution_count": 12,
   "metadata": {},
   "outputs": [
    {
     "name": "stdout",
     "output_type": "stream",
     "text": [
      "While individual cat personalities can vary widely, certain breeds are often noted for their friendly and sociable nature. Some of the most commonly recognized friendly cat breeds include:\n",
      "\n",
      "1. **Ragdoll**: Known for their gentle and laid-back disposition, Ragdolls tend to enjoy human companionship and often follow their owners around.\n",
      "\n",
      "2. **Maine Coon**: This breed is known for its friendly and affectionate nature. They are often described as \"gentle giants\" and are great with families.\n",
      "\n",
      "3. **Siamese**: Siamese cats are social and vocal, often forming strong bonds with their human companions. They thrive on interaction and companionship.\n",
      "\n",
      "4. **British Shorthair**: Known for their easygoing personality, British Shorthairs are friendly and adaptable, making them great pets for families.\n",
      "\n",
      "5. **Burmese**: These cats are known for their affectionate and playful nature. They love being around people and enjoy interactive play.\n",
      "\n",
      "6. **Scottish Fold**: With their distinctive folded ears and sweet disposition, Scottish Folds are known to be friendly and good-natured.\n",
      "\n",
      "7. **Abyssinian**: This breed is active, playful, and enjoys interacting with their owners, making them friendly and engaging companions.\n",
      "\n",
      "Remember that each cat has its own personality, regardless of breed, so it's important to spend time with individual cats to find one that matches your lifestyle and personality. Additionally, early socialization and positive experiences can significantly influence a cat's friendliness.\n"
     ]
    }
   ],
   "source": [
    "response = client.chat.completions.create(\n",
    "    model='gpt-4o-mini',\n",
    "    messages=[{\"role\": \"user\", \"content\": q}]\n",
    ")\n",
    "\n",
    "print(response.choices[0].message.content)"
   ]
  },
  {
   "cell_type": "code",
   "execution_count": 34,
   "metadata": {},
   "outputs": [],
   "source": [
    "def search(query):\n",
    "    boost = {}\n",
    "\n",
    "    results = index.search(\n",
    "        query=query,\n",
    "        filter_dict={ },\n",
    "        boost_dict=boost,\n",
    "        num_results=6\n",
    "    )\n",
    "\n",
    "    return results"
   ]
  },
  {
   "cell_type": "code",
   "execution_count": 35,
   "metadata": {},
   "outputs": [],
   "source": [
    "query = 'which dog breed is the most friendly?'\n"
   ]
  },
  {
   "cell_type": "code",
   "execution_count": 37,
   "metadata": {},
   "outputs": [
    {
     "name": "stdout",
     "output_type": "stream",
     "text": [
      "[{'id': 2, 'Question': 'Which breed of dogs is known for strong loyalty?', 'Answer': 'Collies and Akitas are known for their strong sense of loyalty.'}, {'id': 517, 'Question': 'How can I choose the right dog or breed for my lifestyle?', 'Answer': \"Consider factors such as the dog's size, energy level, temperament, and grooming needs. Visiting potential dog candidates in person is also recommended.\"}, {'id': 572, 'Question': ' What is the most important thing to do when your dog is scared of fireworks?', 'Answer': \" Staying calm and relaxed is crucial because dogs look to their owners for reassurance. Making a big fuss can reinforce the dog's panic.\"}, {'id': 164, 'Question': 'What is the most advanced obstacle in feline agility training?', 'Answer': 'Weaving around poles is one of the most advanced obstacles in feline agility training.'}, {'id': 377, 'Question': \" Have you thought about the cat's breed and how it aligns with your lifestyle and preferences?\", 'Answer': ' Consider which cat breed best suits your lifestyle and preferences to ensure a compatible match.'}, {'id': 180, 'Question': 'What is the most common cause of heatstroke in pets?', 'Answer': 'The most common cause of heatstroke in pets is leaving them inside a parked car. Contrary to popular belief, cracking a window is not sufficient to protect them from heatstroke. The interior temperature of parked cars can rise steadily over time, even on moderately warm days'}] 6\n"
     ]
    }
   ],
   "source": [
    "search_results=search(query)\n",
    "print(search_results, len(search_results))"
   ]
  },
  {
   "cell_type": "code",
   "execution_count": 38,
   "metadata": {},
   "outputs": [],
   "source": [
    "from openai import OpenAI\n",
    "client = OpenAI()\n"
   ]
  },
  {
   "cell_type": "code",
   "execution_count": 41,
   "metadata": {},
   "outputs": [],
   "source": [
    "def build_pet_care_prompt(query, search_results):\n",
    "    prompt_template = \"\"\"\n",
    "You are a knowledgeable pet care expert specializing in dogs and cats. \n",
    "Answer the USER QUESTION based on the INFORMATION from our pet care database. \n",
    "Use only the facts from the INFORMATION when answering the USER QUESTION. \n",
    "If the information doesn't provide a complete answer, \n",
    "say so and suggest seeking professional veterinary advice.\n",
    "\n",
    "USER QUESTION: {question}\n",
    "\n",
    "INFORMATION:\n",
    "{context}\n",
    "\n",
    "Please provide a clear and concise answer. If the question is about a specific breed or species, make sure to highlight that in your response. If there are any safety concerns or potential health risks mentioned in the context, emphasize those in your answer.\n",
    "\"\"\".strip()\n",
    "\n",
    "    context = \"\"\n",
    "    \n",
    "    for doc in search_results:\n",
    "        context = context + f\"Question: {doc['Question']}\\nAnswer: {doc['Answer']}\\n\\n\"\n",
    "    \n",
    "    prompt = prompt_template.format(question=query, context=context).strip()\n",
    "    return prompt"
   ]
  },
  {
   "cell_type": "code",
   "execution_count": null,
   "metadata": {},
   "outputs": [],
   "source": []
  },
  {
   "cell_type": "code",
   "execution_count": 42,
   "metadata": {},
   "outputs": [],
   "source": [
    "def llm(prompt,model='gpt-4o-mini'):\n",
    "    response = client.chat.completions.create(\n",
    "        model='gpt-4o-mini',\n",
    "        messages=[{\"role\": \"user\", \"content\": prompt}]\n",
    "    )\n",
    "    \n",
    "    return response.choices[0].message.content"
   ]
  },
  {
   "cell_type": "code",
   "execution_count": 18,
   "metadata": {},
   "outputs": [
    {
     "data": {
      "text/plain": [
       "583"
      ]
     },
     "execution_count": 18,
     "metadata": {},
     "output_type": "execute_result"
    }
   ],
   "source": [
    "# len(documents)"
   ]
  },
  {
   "cell_type": "code",
   "execution_count": 43,
   "metadata": {},
   "outputs": [],
   "source": [
    "\n",
    "def rag(query,model='gpt-4o-mini'):\n",
    "    search_results = search(query)\n",
    "    prompt = build_pet_care_prompt(query, search_results)\n",
    "    answer = llm(prompt,model=model)\n",
    "    return answer"
   ]
  },
  {
   "cell_type": "code",
   "execution_count": 44,
   "metadata": {},
   "outputs": [
    {
     "name": "stdout",
     "output_type": "stream",
     "text": [
      "The provided information does not specify the personality traits that define sporting dog breeds. To get accurate and comprehensive information about the personality traits of sporting dog breeds, I recommend seeking professional veterinary advice or referring to breed-specific resources.\n"
     ]
    }
   ],
   "source": [
    "query = 'What traits define the personality of sporting dog breeds'\n",
    "answer=rag(query)\n",
    "print(answer)\n"
   ]
  },
  {
   "cell_type": "code",
   "execution_count": null,
   "metadata": {},
   "outputs": [],
   "source": []
  },
  {
   "cell_type": "code",
   "execution_count": 56,
   "metadata": {},
   "outputs": [],
   "source": [
    "#rename first column to 'id'\n"
   ]
  },
  {
   "cell_type": "code",
   "execution_count": 21,
   "metadata": {},
   "outputs": [
    {
     "data": {
      "text/html": [
       "<div>\n",
       "<style scoped>\n",
       "    .dataframe tbody tr th:only-of-type {\n",
       "        vertical-align: middle;\n",
       "    }\n",
       "\n",
       "    .dataframe tbody tr th {\n",
       "        vertical-align: top;\n",
       "    }\n",
       "\n",
       "    .dataframe thead th {\n",
       "        text-align: right;\n",
       "    }\n",
       "</style>\n",
       "<table border=\"1\" class=\"dataframe\">\n",
       "  <thead>\n",
       "    <tr style=\"text-align: right;\">\n",
       "      <th></th>\n",
       "      <th>id</th>\n",
       "      <th>Question</th>\n",
       "      <th>Answer</th>\n",
       "    </tr>\n",
       "  </thead>\n",
       "  <tbody>\n",
       "    <tr>\n",
       "      <th>0</th>\n",
       "      <td>0</td>\n",
       "      <td>What are some examples of breed-typical person...</td>\n",
       "      <td>Breed-typical personalities in dogs are develo...</td>\n",
       "    </tr>\n",
       "    <tr>\n",
       "      <th>1</th>\n",
       "      <td>1</td>\n",
       "      <td>How do working and herding dogs typically behave?</td>\n",
       "      <td>Working and herding dogs have business-like di...</td>\n",
       "    </tr>\n",
       "    <tr>\n",
       "      <th>2</th>\n",
       "      <td>2</td>\n",
       "      <td>Which breed of dogs is known for strong loyalty?</td>\n",
       "      <td>Collies and Akitas are known for their strong ...</td>\n",
       "    </tr>\n",
       "    <tr>\n",
       "      <th>3</th>\n",
       "      <td>3</td>\n",
       "      <td>What instincts do guarding dogs typically disp...</td>\n",
       "      <td>Guarding dogs tend to be protective of their t...</td>\n",
       "    </tr>\n",
       "    <tr>\n",
       "      <th>4</th>\n",
       "      <td>4</td>\n",
       "      <td>How does breed specificity impact a dog's abil...</td>\n",
       "      <td>Breed specificity affects how well dogs adapt ...</td>\n",
       "    </tr>\n",
       "  </tbody>\n",
       "</table>\n",
       "</div>"
      ],
      "text/plain": [
       "   id                                           Question  \\\n",
       "0   0  What are some examples of breed-typical person...   \n",
       "1   1  How do working and herding dogs typically behave?   \n",
       "2   2   Which breed of dogs is known for strong loyalty?   \n",
       "3   3  What instincts do guarding dogs typically disp...   \n",
       "4   4  How does breed specificity impact a dog's abil...   \n",
       "\n",
       "                                              Answer  \n",
       "0  Breed-typical personalities in dogs are develo...  \n",
       "1  Working and herding dogs have business-like di...  \n",
       "2  Collies and Akitas are known for their strong ...  \n",
       "3  Guarding dogs tend to be protective of their t...  \n",
       "4  Breed specificity affects how well dogs adapt ...  "
      ]
     },
     "execution_count": 21,
     "metadata": {},
     "output_type": "execute_result"
    }
   ],
   "source": [
    "df.head()"
   ]
  },
  {
   "cell_type": "code",
   "execution_count": 58,
   "metadata": {},
   "outputs": [],
   "source": [
    "# update df back to file\n"
   ]
  },
  {
   "cell_type": "code",
   "execution_count": 28,
   "metadata": {},
   "outputs": [],
   "source": [
    "df=pd.read_csv('Dog-Cat-QA.csv')"
   ]
  },
  {
   "cell_type": "code",
   "execution_count": 22,
   "metadata": {},
   "outputs": [
    {
     "data": {
      "text/plain": [
       "(   id                                           Question  \\\n",
       " 0   0  What are some examples of breed-typical person...   \n",
       " 1   1  How do working and herding dogs typically behave?   \n",
       " 2   2   Which breed of dogs is known for strong loyalty?   \n",
       " 3   3  What instincts do guarding dogs typically disp...   \n",
       " 4   4  How does breed specificity impact a dog's abil...   \n",
       " \n",
       "                                               Answer  \n",
       " 0  Breed-typical personalities in dogs are develo...  \n",
       " 1  Working and herding dogs have business-like di...  \n",
       " 2  Collies and Akitas are known for their strong ...  \n",
       " 3  Guarding dogs tend to be protective of their t...  \n",
       " 4  Breed specificity affects how well dogs adapt ...  ,\n",
       " 583)"
      ]
     },
     "execution_count": 22,
     "metadata": {},
     "output_type": "execute_result"
    }
   ],
   "source": [
    "df.head(),len(df)"
   ]
  },
  {
   "cell_type": "code",
   "execution_count": 45,
   "metadata": {},
   "outputs": [
    {
     "name": "stdout",
     "output_type": "stream",
     "text": [
      "Signs of stress in dogs may include excessive yawning, lip-licking, trembling, avoiding or hiding, and a hardening of the eyes. \n",
      "\n",
      "Unfortunately, the provided information does not specifically list signs of stress in cats. It's important to consult with a veterinarian for more comprehensive insights on stress signs in cats, along with any potential health implications.\n"
     ]
    }
   ],
   "source": [
    "query=\"What are the signs of stress in cats and dogs?\"\n",
    "answer=rag(query)\n",
    "print(answer)\n"
   ]
  },
  {
   "cell_type": "markdown",
   "metadata": {},
   "source": [
    "## Retrieval evaluation "
   ]
  },
  {
   "cell_type": "code",
   "execution_count": 46,
   "metadata": {},
   "outputs": [
    {
     "data": {
      "text/html": [
       "<div>\n",
       "<style scoped>\n",
       "    .dataframe tbody tr th:only-of-type {\n",
       "        vertical-align: middle;\n",
       "    }\n",
       "\n",
       "    .dataframe tbody tr th {\n",
       "        vertical-align: top;\n",
       "    }\n",
       "\n",
       "    .dataframe thead th {\n",
       "        text-align: right;\n",
       "    }\n",
       "</style>\n",
       "<table border=\"1\" class=\"dataframe\">\n",
       "  <thead>\n",
       "    <tr style=\"text-align: right;\">\n",
       "      <th></th>\n",
       "      <th>id</th>\n",
       "      <th>question</th>\n",
       "    </tr>\n",
       "  </thead>\n",
       "  <tbody>\n",
       "    <tr>\n",
       "      <th>0</th>\n",
       "      <td>0</td>\n",
       "      <td>What are the common personality traits associa...</td>\n",
       "    </tr>\n",
       "    <tr>\n",
       "      <th>1</th>\n",
       "      <td>0</td>\n",
       "      <td>Can you explain the typical temperament of hou...</td>\n",
       "    </tr>\n",
       "    <tr>\n",
       "      <th>2</th>\n",
       "      <td>0</td>\n",
       "      <td>How do breed characteristics influence a dog's...</td>\n",
       "    </tr>\n",
       "    <tr>\n",
       "      <th>3</th>\n",
       "      <td>1</td>\n",
       "      <td>What behavior can I expect from working and he...</td>\n",
       "    </tr>\n",
       "    <tr>\n",
       "      <th>4</th>\n",
       "      <td>1</td>\n",
       "      <td>How do herding dogs usually assess their envir...</td>\n",
       "    </tr>\n",
       "  </tbody>\n",
       "</table>\n",
       "</div>"
      ],
      "text/plain": [
       "   id                                           question\n",
       "0   0  What are the common personality traits associa...\n",
       "1   0  Can you explain the typical temperament of hou...\n",
       "2   0  How do breed characteristics influence a dog's...\n",
       "3   1  What behavior can I expect from working and he...\n",
       "4   1  How do herding dogs usually assess their envir..."
      ]
     },
     "execution_count": 46,
     "metadata": {},
     "output_type": "execute_result"
    }
   ],
   "source": [
    "df_questions=pd.read_csv('../data/ground-truth-retrieval.csv')  \n",
    "df_questions.head()"
   ]
  },
  {
   "cell_type": "code",
   "execution_count": 47,
   "metadata": {},
   "outputs": [],
   "source": [
    "ground_truth = df_questions.to_dict(orient='records')\n"
   ]
  },
  {
   "cell_type": "code",
   "execution_count": 48,
   "metadata": {},
   "outputs": [
    {
     "data": {
      "text/plain": [
       "{'id': 0,\n",
       " 'question': 'What are the common personality traits associated with sporting dog breeds?'}"
      ]
     },
     "execution_count": 48,
     "metadata": {},
     "output_type": "execute_result"
    }
   ],
   "source": [
    "ground_truth[0]\n"
   ]
  },
  {
   "cell_type": "code",
   "execution_count": 50,
   "metadata": {},
   "outputs": [],
   "source": [
    "def hit_rate(relevance_total):\n",
    "    cnt = 0\n",
    "\n",
    "    for line in relevance_total:\n",
    "        if True in line:\n",
    "            cnt = cnt + 1\n",
    "\n",
    "    return cnt / len(relevance_total)\n",
    "\n",
    "def mrr(relevance_total):\n",
    "    total_score = 0.0\n",
    "\n",
    "    for line in relevance_total:\n",
    "        for rank in range(len(line)):\n",
    "            if line[rank] == True:\n",
    "                total_score = total_score + 1 / (rank + 1)\n",
    "\n",
    "    return total_score / len(relevance_total)"
   ]
  },
  {
   "cell_type": "code",
   "execution_count": 51,
   "metadata": {},
   "outputs": [],
   "source": [
    "def minsearch_search(query):\n",
    "    boost = {}\n",
    "\n",
    "    results = index.search(\n",
    "        query=query,\n",
    "        filter_dict={},\n",
    "        boost_dict=boost,\n",
    "        num_results=6\n",
    "    )\n",
    "\n",
    "    return results"
   ]
  },
  {
   "cell_type": "code",
   "execution_count": 52,
   "metadata": {},
   "outputs": [],
   "source": [
    "def evaluate(ground_truth, search_function):\n",
    "    relevance_total = []\n",
    "\n",
    "    for q in tqdm(ground_truth):\n",
    "        doc_id = q['id']\n",
    "        results = search_function(q)\n",
    "        relevance = [d['id'] == doc_id for d in results]\n",
    "        relevance_total.append(relevance)\n",
    "\n",
    "    return {\n",
    "        'hit_rate': hit_rate(relevance_total),\n",
    "        'mrr': mrr(relevance_total),\n",
    "    }"
   ]
  },
  {
   "cell_type": "code",
   "execution_count": 53,
   "metadata": {},
   "outputs": [
    {
     "name": "stderr",
     "output_type": "stream",
     "text": [
      "c:\\Users\\wufen\\.virtualenvs\\Pet-Care-RAG-Application-DW-wRTOa\\Lib\\site-packages\\tqdm\\auto.py:21: TqdmWarning: IProgress not found. Please update jupyter and ipywidgets. See https://ipywidgets.readthedocs.io/en/stable/user_install.html\n",
      "  from .autonotebook import tqdm as notebook_tqdm\n"
     ]
    }
   ],
   "source": [
    "from tqdm.auto import tqdm"
   ]
  },
  {
   "cell_type": "code",
   "execution_count": 54,
   "metadata": {},
   "outputs": [
    {
     "name": "stderr",
     "output_type": "stream",
     "text": [
      "100%|██████████| 1749/1749 [00:09<00:00, 188.34it/s]\n"
     ]
    },
    {
     "data": {
      "text/plain": [
       "{'hit_rate': 0.8547741566609491, 'mrr': 0.6890794739851345}"
      ]
     },
     "execution_count": 54,
     "metadata": {},
     "output_type": "execute_result"
    }
   ],
   "source": [
    "evaluate(ground_truth, lambda q: minsearch_search(q['question'] ))\n"
   ]
  }
 ],
 "metadata": {
  "kernelspec": {
   "display_name": "Pet-Care-RAG-Application-DW-wRTOa",
   "language": "python",
   "name": "python3"
  },
  "language_info": {
   "codemirror_mode": {
    "name": "ipython",
    "version": 3
   },
   "file_extension": ".py",
   "mimetype": "text/x-python",
   "name": "python",
   "nbconvert_exporter": "python",
   "pygments_lexer": "ipython3",
   "version": "3.11.2"
  }
 },
 "nbformat": 4,
 "nbformat_minor": 2
}
