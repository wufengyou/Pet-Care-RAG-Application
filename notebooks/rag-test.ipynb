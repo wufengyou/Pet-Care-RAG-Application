{
 "cells": [
  {
   "cell_type": "markdown",
   "metadata": {},
   "source": []
  },
  {
   "cell_type": "code",
   "execution_count": 1,
   "metadata": {},
   "outputs": [],
   "source": [
    "import pandas as pd"
   ]
  },
  {
   "cell_type": "code",
   "execution_count": 2,
   "metadata": {},
   "outputs": [
    {
     "data": {
      "text/html": [
       "<div>\n",
       "<style scoped>\n",
       "    .dataframe tbody tr th:only-of-type {\n",
       "        vertical-align: middle;\n",
       "    }\n",
       "\n",
       "    .dataframe tbody tr th {\n",
       "        vertical-align: top;\n",
       "    }\n",
       "\n",
       "    .dataframe thead th {\n",
       "        text-align: right;\n",
       "    }\n",
       "</style>\n",
       "<table border=\"1\" class=\"dataframe\">\n",
       "  <thead>\n",
       "    <tr style=\"text-align: right;\">\n",
       "      <th></th>\n",
       "      <th>Unnamed: 0</th>\n",
       "      <th>Question</th>\n",
       "      <th>Answer</th>\n",
       "    </tr>\n",
       "  </thead>\n",
       "  <tbody>\n",
       "    <tr>\n",
       "      <th>0</th>\n",
       "      <td>0</td>\n",
       "      <td>What are some examples of breed-typical person...</td>\n",
       "      <td>Breed-typical personalities in dogs are develo...</td>\n",
       "    </tr>\n",
       "    <tr>\n",
       "      <th>1</th>\n",
       "      <td>1</td>\n",
       "      <td>How do working and herding dogs typically behave?</td>\n",
       "      <td>Working and herding dogs have business-like di...</td>\n",
       "    </tr>\n",
       "    <tr>\n",
       "      <th>2</th>\n",
       "      <td>2</td>\n",
       "      <td>Which breed of dogs is known for strong loyalty?</td>\n",
       "      <td>Collies and Akitas are known for their strong ...</td>\n",
       "    </tr>\n",
       "    <tr>\n",
       "      <th>3</th>\n",
       "      <td>3</td>\n",
       "      <td>What instincts do guarding dogs typically disp...</td>\n",
       "      <td>Guarding dogs tend to be protective of their t...</td>\n",
       "    </tr>\n",
       "    <tr>\n",
       "      <th>4</th>\n",
       "      <td>4</td>\n",
       "      <td>How does breed specificity impact a dog's abil...</td>\n",
       "      <td>Breed specificity affects how well dogs adapt ...</td>\n",
       "    </tr>\n",
       "  </tbody>\n",
       "</table>\n",
       "</div>"
      ],
      "text/plain": [
       "   Unnamed: 0                                           Question  \\\n",
       "0           0  What are some examples of breed-typical person...   \n",
       "1           1  How do working and herding dogs typically behave?   \n",
       "2           2   Which breed of dogs is known for strong loyalty?   \n",
       "3           3  What instincts do guarding dogs typically disp...   \n",
       "4           4  How does breed specificity impact a dog's abil...   \n",
       "\n",
       "                                              Answer  \n",
       "0  Breed-typical personalities in dogs are develo...  \n",
       "1  Working and herding dogs have business-like di...  \n",
       "2  Collies and Akitas are known for their strong ...  \n",
       "3  Guarding dogs tend to be protective of their t...  \n",
       "4  Breed specificity affects how well dogs adapt ...  "
      ]
     },
     "execution_count": 2,
     "metadata": {},
     "output_type": "execute_result"
    }
   ],
   "source": [
    "df=pd.read_csv('Dog-Cat-QA.csv')\n",
    "df.head()"
   ]
  },
  {
   "cell_type": "code",
   "execution_count": 7,
   "metadata": {},
   "outputs": [
    {
     "name": "stdout",
     "output_type": "stream",
     "text": [
      "<class 'pandas.core.frame.DataFrame'>\n",
      "RangeIndex: 583 entries, 0 to 582\n",
      "Data columns (total 3 columns):\n",
      " #   Column      Non-Null Count  Dtype \n",
      "---  ------      --------------  ----- \n",
      " 0   Unnamed: 0  583 non-null    int64 \n",
      " 1   Question    583 non-null    object\n",
      " 2   Answer      583 non-null    object\n",
      "dtypes: int64(1), object(2)\n",
      "memory usage: 13.8+ KB\n"
     ]
    }
   ],
   "source": [
    "df.info()"
   ]
  },
  {
   "cell_type": "code",
   "execution_count": 8,
   "metadata": {},
   "outputs": [
    {
     "data": {
      "text/plain": [
       "Index(['Unnamed: 0', 'Question', 'Answer'], dtype='object')"
      ]
     },
     "execution_count": 8,
     "metadata": {},
     "output_type": "execute_result"
    }
   ],
   "source": [
    "df.columns"
   ]
  },
  {
   "cell_type": "code",
   "execution_count": 9,
   "metadata": {},
   "outputs": [
    {
     "name": "stderr",
     "output_type": "stream",
     "text": [
      "--2024-09-09 12:21:52--  https://raw.githubusercontent.com/alexeygrigorev/minsearch/main/minsearch.py\n",
      "Resolving raw.githubusercontent.com (raw.githubusercontent.com)... 185.199.108.133, 185.199.111.133, 185.199.109.133, ...\n",
      "Connecting to raw.githubusercontent.com (raw.githubusercontent.com)|185.199.108.133|:443... connected.\n",
      "HTTP request sent, awaiting response... 200 OK\n",
      "Length: 3832 (3.7K) [text/plain]\n",
      "Saving to: 'minsearch.py'\n",
      "\n",
      "     0K ...                                                   100% 12.1M=0s\n",
      "\n",
      "2024-09-09 12:21:52 (12.1 MB/s) - 'minsearch.py' saved [3832/3832]\n",
      "\n"
     ]
    }
   ],
   "source": [
    "# !wget https://raw.githubusercontent.com/alexeygrigorev/minsearch/main/minsearch.py\n"
   ]
  },
  {
   "cell_type": "code",
   "execution_count": 19,
   "metadata": {},
   "outputs": [],
   "source": [
    "import minsearch\n"
   ]
  },
  {
   "cell_type": "code",
   "execution_count": 16,
   "metadata": {},
   "outputs": [],
   "source": [
    "documents = df[['Question', 'Answer']].to_dict(orient='records')\n",
    "\n",
    "# data = df.to_dict(orient='records')\n"
   ]
  },
  {
   "cell_type": "code",
   "execution_count": 17,
   "metadata": {},
   "outputs": [
    {
     "data": {
      "text/plain": [
       "{'Question': 'What are some examples of breed-typical personalities in dogs?',\n",
       " 'Answer': 'Breed-typical personalities in dogs are developed through generations of selection for certain traits. For example, sporting dogs are adventurous and responsive to humans, while hounds tend to be more independent and aloof.'}"
      ]
     },
     "execution_count": 17,
     "metadata": {},
     "output_type": "execute_result"
    }
   ],
   "source": [
    "documents[0]"
   ]
  },
  {
   "cell_type": "code",
   "execution_count": 21,
   "metadata": {},
   "outputs": [],
   "source": [
    "index = minsearch.Index(\n",
    "     text_fields=[\"Question\", \"Answer\"],\n",
    "     keyword_fields=[]\n",
    ")"
   ]
  },
  {
   "cell_type": "code",
   "execution_count": 22,
   "metadata": {},
   "outputs": [],
   "source": [
    "q='which cat breed is the most friendly?'"
   ]
  },
  {
   "cell_type": "code",
   "execution_count": 23,
   "metadata": {},
   "outputs": [
    {
     "data": {
      "text/plain": [
       "<minsearch.Index at 0x2081adaa150>"
      ]
     },
     "execution_count": 23,
     "metadata": {},
     "output_type": "execute_result"
    }
   ],
   "source": [
    "index.fit(documents)\n"
   ]
  },
  {
   "cell_type": "code",
   "execution_count": 26,
   "metadata": {},
   "outputs": [],
   "source": [
    "from openai import OpenAI\n",
    "client = OpenAI()\n"
   ]
  },
  {
   "cell_type": "code",
   "execution_count": 27,
   "metadata": {},
   "outputs": [
    {
     "data": {
      "text/plain": [
       "\"While individual personalities can vary widely, certain cat breeds are generally known for their friendly and sociable nature. Some of the most commonly cited friendly cat breeds include:\\n\\n1. **Ragdoll**: Known for their calm and gentle demeanor, Ragdolls often enjoy being held and tend to follow their owners around.\\n2. **Maine Coon**: These large cats are known for their friendly disposition and often get along well with both people and other pets.\\n3. **Siamese**: Siamese cats are very social and tend to form strong bonds with their owners, often seeking out companionship and interaction.\\n4. **British Shorthair**: Known for their easygoing temperament, British Shorthairs are typically affectionate and enjoy spending time with their human families.\\n5. **Burmese**: These cats are playful and affectionate, often seeking out human attention and interaction.\\n6. **Scottish Fold**: With their distinct folded ears, Scottish Folds are usually friendly and enjoy being around people.\\n\\nUltimately, the friendliness of a cat can depend on many factors, including socialization and individual temperament. It's always best to spend time with a cat to see if their personality matches what you're looking for.\""
      ]
     },
     "execution_count": 27,
     "metadata": {},
     "output_type": "execute_result"
    }
   ],
   "source": [
    "response = client.chat.completions.create(\n",
    "    model='gpt-4o-mini',\n",
    "    messages=[{\"role\": \"user\", \"content\": q}]\n",
    ")\n",
    "\n",
    "response.choices[0].message.content"
   ]
  },
  {
   "cell_type": "code",
   "execution_count": 30,
   "metadata": {},
   "outputs": [],
   "source": [
    "def search(query):\n",
    "    boost = {}\n",
    "\n",
    "    results = index.search(\n",
    "        query=query,\n",
    "        filter_dict={ },\n",
    "        boost_dict=boost,\n",
    "        num_results=5\n",
    "    )\n",
    "\n",
    "    return results"
   ]
  },
  {
   "cell_type": "code",
   "execution_count": 36,
   "metadata": {},
   "outputs": [],
   "source": [
    "query = 'which dog breed is the most friendly?'\n"
   ]
  },
  {
   "cell_type": "code",
   "execution_count": 37,
   "metadata": {},
   "outputs": [
    {
     "name": "stdout",
     "output_type": "stream",
     "text": [
      "[{'Question': 'Which breed of dogs is known for strong loyalty?', 'Answer': 'Collies and Akitas are known for their strong sense of loyalty.'}, {'Question': 'How can I choose the right dog or breed for my lifestyle?', 'Answer': \"Consider factors such as the dog's size, energy level, temperament, and grooming needs. Visiting potential dog candidates in person is also recommended.\"}, {'Question': ' What is the most important thing to do when your dog is scared of fireworks?', 'Answer': \" Staying calm and relaxed is crucial because dogs look to their owners for reassurance. Making a big fuss can reinforce the dog's panic.\"}, {'Question': 'What is the most advanced obstacle in feline agility training?', 'Answer': 'Weaving around poles is one of the most advanced obstacles in feline agility training.'}, {'Question': \" Have you thought about the cat's breed and how it aligns with your lifestyle and preferences?\", 'Answer': ' Consider which cat breed best suits your lifestyle and preferences to ensure a compatible match.'}]\n"
     ]
    }
   ],
   "source": [
    "search_results=search(query)\n",
    "print(search_results)"
   ]
  },
  {
   "cell_type": "code",
   "execution_count": 29,
   "metadata": {},
   "outputs": [],
   "source": [
    "from openai import OpenAI\n",
    "client = OpenAI()\n"
   ]
  },
  {
   "cell_type": "code",
   "execution_count": 47,
   "metadata": {},
   "outputs": [],
   "source": [
    "def build_pet_care_prompt(query, search_results):\n",
    "    prompt_template = \"\"\"\n",
    "You are a knowledgeable pet care expert specializing in dogs and cats. \n",
    "Answer the USER QUESTION based on the INFORMATION from our pet care database. \n",
    "Use only the facts from the INFORMATION when answering the USER QUESTION. \n",
    "If the information doesn't provide a complete answer, \n",
    "say so and suggest seeking professional veterinary advice.\n",
    "\n",
    "USER QUESTION: {question}\n",
    "\n",
    "INFORMATION:\n",
    "{context}\n",
    "\n",
    "Please provide a clear and concise answer. If the question is about a specific breed or species, make sure to highlight that in your response. If there are any safety concerns or potential health risks mentioned in the context, emphasize those in your answer.\n",
    "\"\"\".strip()\n",
    "\n",
    "    context = \"\"\n",
    "    \n",
    "    for doc in search_results:\n",
    "        context = context + f\"Question: {doc['Question']}\\nAnswer: {doc['Answer']}\\n\\n\"\n",
    "    \n",
    "    prompt = prompt_template.format(question=query, context=context).strip()\n",
    "    return prompt"
   ]
  },
  {
   "cell_type": "code",
   "execution_count": null,
   "metadata": {},
   "outputs": [],
   "source": []
  },
  {
   "cell_type": "code",
   "execution_count": 48,
   "metadata": {},
   "outputs": [],
   "source": [
    "def llm(prompt):\n",
    "    response = client.chat.completions.create(\n",
    "        model='gpt-4o-mini',\n",
    "        messages=[{\"role\": \"user\", \"content\": prompt}]\n",
    "    )\n",
    "    \n",
    "    return response.choices[0].message.content"
   ]
  },
  {
   "cell_type": "code",
   "execution_count": 51,
   "metadata": {},
   "outputs": [
    {
     "data": {
      "text/plain": [
       "583"
      ]
     },
     "execution_count": 51,
     "metadata": {},
     "output_type": "execute_result"
    }
   ],
   "source": [
    "len(documents)"
   ]
  },
  {
   "cell_type": "code",
   "execution_count": 49,
   "metadata": {},
   "outputs": [],
   "source": [
    "\n",
    "def rag(query):\n",
    "    search_results = search(query)\n",
    "    prompt = build_pet_care_prompt(query, search_results)\n",
    "    answer = llm(prompt)\n",
    "    return answer"
   ]
  },
  {
   "cell_type": "code",
   "execution_count": 50,
   "metadata": {},
   "outputs": [
    {
     "name": "stdout",
     "output_type": "stream",
     "text": [
      "The information provided does not specify which dog breed is the most friendly. For a definitive answer, it is best to seek professional veterinary advice or consult with a canine behavior specialist.\n"
     ]
    }
   ],
   "source": [
    "query = 'What traits define the personality of sporting dog breeds'\n",
    "answer=rag(query)\n",
    "print(answer)\n"
   ]
  },
  {
   "cell_type": "code",
   "execution_count": null,
   "metadata": {},
   "outputs": [],
   "source": []
  },
  {
   "cell_type": "code",
   "execution_count": 56,
   "metadata": {},
   "outputs": [],
   "source": [
    "#rename first column to 'id'\n"
   ]
  },
  {
   "cell_type": "code",
   "execution_count": 57,
   "metadata": {},
   "outputs": [
    {
     "data": {
      "text/html": [
       "<div>\n",
       "<style scoped>\n",
       "    .dataframe tbody tr th:only-of-type {\n",
       "        vertical-align: middle;\n",
       "    }\n",
       "\n",
       "    .dataframe tbody tr th {\n",
       "        vertical-align: top;\n",
       "    }\n",
       "\n",
       "    .dataframe thead th {\n",
       "        text-align: right;\n",
       "    }\n",
       "</style>\n",
       "<table border=\"1\" class=\"dataframe\">\n",
       "  <thead>\n",
       "    <tr style=\"text-align: right;\">\n",
       "      <th></th>\n",
       "      <th>id</th>\n",
       "      <th>Question</th>\n",
       "      <th>Answer</th>\n",
       "    </tr>\n",
       "  </thead>\n",
       "  <tbody>\n",
       "    <tr>\n",
       "      <th>0</th>\n",
       "      <td>0</td>\n",
       "      <td>What are some examples of breed-typical person...</td>\n",
       "      <td>Breed-typical personalities in dogs are develo...</td>\n",
       "    </tr>\n",
       "    <tr>\n",
       "      <th>1</th>\n",
       "      <td>1</td>\n",
       "      <td>How do working and herding dogs typically behave?</td>\n",
       "      <td>Working and herding dogs have business-like di...</td>\n",
       "    </tr>\n",
       "    <tr>\n",
       "      <th>2</th>\n",
       "      <td>2</td>\n",
       "      <td>Which breed of dogs is known for strong loyalty?</td>\n",
       "      <td>Collies and Akitas are known for their strong ...</td>\n",
       "    </tr>\n",
       "    <tr>\n",
       "      <th>3</th>\n",
       "      <td>3</td>\n",
       "      <td>What instincts do guarding dogs typically disp...</td>\n",
       "      <td>Guarding dogs tend to be protective of their t...</td>\n",
       "    </tr>\n",
       "    <tr>\n",
       "      <th>4</th>\n",
       "      <td>4</td>\n",
       "      <td>How does breed specificity impact a dog's abil...</td>\n",
       "      <td>Breed specificity affects how well dogs adapt ...</td>\n",
       "    </tr>\n",
       "  </tbody>\n",
       "</table>\n",
       "</div>"
      ],
      "text/plain": [
       "   id                                           Question  \\\n",
       "0   0  What are some examples of breed-typical person...   \n",
       "1   1  How do working and herding dogs typically behave?   \n",
       "2   2   Which breed of dogs is known for strong loyalty?   \n",
       "3   3  What instincts do guarding dogs typically disp...   \n",
       "4   4  How does breed specificity impact a dog's abil...   \n",
       "\n",
       "                                              Answer  \n",
       "0  Breed-typical personalities in dogs are develo...  \n",
       "1  Working and herding dogs have business-like di...  \n",
       "2  Collies and Akitas are known for their strong ...  \n",
       "3  Guarding dogs tend to be protective of their t...  \n",
       "4  Breed specificity affects how well dogs adapt ...  "
      ]
     },
     "execution_count": 57,
     "metadata": {},
     "output_type": "execute_result"
    }
   ],
   "source": [
    "df.head()"
   ]
  },
  {
   "cell_type": "code",
   "execution_count": 58,
   "metadata": {},
   "outputs": [],
   "source": [
    "# update df back to file\n"
   ]
  },
  {
   "cell_type": "code",
   "execution_count": 59,
   "metadata": {},
   "outputs": [],
   "source": [
    "df=pd.read_csv('Dog-Cat-QA.csv')"
   ]
  },
  {
   "cell_type": "code",
   "execution_count": 61,
   "metadata": {},
   "outputs": [
    {
     "data": {
      "text/plain": [
       "(   id                                           Question  \\\n",
       " 0   0  What are some examples of breed-typical person...   \n",
       " 1   1  How do working and herding dogs typically behave?   \n",
       " 2   2   Which breed of dogs is known for strong loyalty?   \n",
       " 3   3  What instincts do guarding dogs typically disp...   \n",
       " 4   4  How does breed specificity impact a dog's abil...   \n",
       " \n",
       "                                               Answer  \n",
       " 0  Breed-typical personalities in dogs are develo...  \n",
       " 1  Working and herding dogs have business-like di...  \n",
       " 2  Collies and Akitas are known for their strong ...  \n",
       " 3  Guarding dogs tend to be protective of their t...  \n",
       " 4  Breed specificity affects how well dogs adapt ...  ,\n",
       " 583)"
      ]
     },
     "execution_count": 61,
     "metadata": {},
     "output_type": "execute_result"
    }
   ],
   "source": [
    "df.head(),len(df)"
   ]
  },
  {
   "cell_type": "code",
   "execution_count": 62,
   "metadata": {},
   "outputs": [
    {
     "name": "stdout",
     "output_type": "stream",
     "text": [
      "Signs of stress in dogs may include excessive yawning, lip-licking, trembling, avoiding or hiding, and a hardening of the eyes. \n",
      "\n",
      "For cats, while specific signs of stress are not detailed in the provided information, it is generally known that changes in behavior, loss of appetite, hiding, and changes in grooming habits can also indicate stress in cats.\n",
      "\n",
      "If you notice signs of stress in your pet, it's important to consult with a veterinarian to rule out any medical issues and address their well-being.\n"
     ]
    }
   ],
   "source": [
    "query=\"What are the signs of stress in cats and dogs?\"\n",
    "answer=rag(query)\n",
    "print(answer)\n"
   ]
  },
  {
   "cell_type": "markdown",
   "metadata": {},
   "source": []
  },
  {
   "cell_type": "markdown",
   "metadata": {},
   "source": [
    "Retrival evaluation"
   ]
  },
  {
   "cell_type": "markdown",
   "metadata": {},
   "source": []
  },
  {
   "cell_type": "code",
   "execution_count": null,
   "metadata": {},
   "outputs": [],
   "source": []
  }
 ],
 "metadata": {
  "kernelspec": {
   "display_name": "Pet-Care-RAG-Application-DW-wRTOa",
   "language": "python",
   "name": "python3"
  },
  "language_info": {
   "codemirror_mode": {
    "name": "ipython",
    "version": 3
   },
   "file_extension": ".py",
   "mimetype": "text/x-python",
   "name": "python",
   "nbconvert_exporter": "python",
   "pygments_lexer": "ipython3",
   "version": "3.11.5"
  }
 },
 "nbformat": 4,
 "nbformat_minor": 2
}
